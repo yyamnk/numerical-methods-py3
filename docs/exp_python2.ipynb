{
 "cells": [
  {
   "cell_type": "markdown",
   "metadata": {
    "colab_type": "text",
    "id": "B6SEtGKpcxQ6"
   },
   "source": [
    "# オイラー法による常微分方程式の数値解析\n",
    "\n",
    "このノートブックでは，前回までに学んだPythonの基礎知識を用いて，\n",
    "運動方程式でよく用いられる次の2階常微分方程式の解を数値的に求めるオイラー法について説明する．\n",
    "\n",
    "$$\n",
    "\\frac{d^2 x(t)}{dt^2}=f\\left(x(t), \\frac{dx(t)}{dt}\\right)\n",
    "\\tag{1}\n",
    "$$"
   ]
  },
  {
   "cell_type": "markdown",
   "metadata": {
    "colab_type": "text",
    "id": "qwqZWJ_0EXB4"
   },
   "source": [
    "## オイラー法\n",
    "\n",
    "まず，2階の微分方程式を1階化する．新しい変数$v(t) := \\frac{dx(t)}{dt}$を導入することで，式(１)は\n",
    "\n",
    "$$\n",
    "\\begin{cases}\n",
    " \\frac{dx(t)}{dt} = v(t), \\\\\n",
    " \\frac{dv(t)}{dt} = f(x(t), v(t))\n",
    "\\end{cases}\n",
    "\\tag{2}\n",
    "$$\n",
    "\n",
    "と書き直すことができる．"
   ]
  },
  {
   "cell_type": "markdown",
   "metadata": {
    "colab_type": "text",
    "id": "UuVYSaOdJ0Ub"
   },
   "source": [
    "$h$を微小時間とし，$x(t + h)$をテイラー展開すると，\n",
    "\n",
    "$$\n",
    "x (t+h) = x(t) + \\frac{dx(t)}{dt} h + \\frac{1}{2!} \\frac{d^2x(t)}{dt^2} h^2 + \\cdots\n",
    "$$\n",
    "\n",
    "となる．1次の項のみで打ち切ると，\n",
    "\n",
    "$$\n",
    "x (t+h) \\approx x(t) + \\frac{dx(t)}{dt} h = x(t) + v(t) h\n",
    "\\tag{2}\n",
    "$$\n",
    "\n",
    "と近似できる．\n",
    "\n",
    "この近似で得られるのは$h$ごとの解となるから，以降，これを$x_i := x(t_0 + i h)$, ただし$i=0, 1, 2, \\ldots$, $t_0$は初期時刻，で表す．このとき，式(2)は次のようになる．\n",
    "\n",
    "$$\n",
    "x_{i+1} \\approx x_i + v_i h\n",
    "\\tag{3}\n",
    "$$\n",
    "\n",
    "$v(t)$についても同様に，\n",
    "\n",
    "$$\n",
    "v(t+h) \\approx v(t) + \\frac{dv(t)}{dt} h = v(t) + f(x(t), v(t)) h\n",
    "$$\n",
    "\n",
    "より，$v_i := v(t_0 + i h)$を用いて，\n",
    "\n",
    "$$\n",
    "v_{i+1} \\approx v_i + f(x_i, v_i) h\n",
    "\\tag{4}\n",
    "$$\n",
    "\n",
    "が得られる．この式（3,4）を逐次計算することで，微分方程式の解を求めるのがオイラー法である．"
   ]
  },
  {
   "cell_type": "markdown",
   "metadata": {
    "colab_type": "text",
    "id": "99LcxJFoEtrF"
   },
   "source": [
    "## オイラー法の利点\n",
    "\n",
    "このオイラー法の利点は，式（1）が解析的に解けない場合でも，近似的な解（数値解）が得られる点にある．数値解を求めることを数値解析と呼ぶ．\n",
    "複雑な運動方程式は解析的に解けないことが多いため，このような数値解析が重要となる．"
   ]
  },
  {
   "cell_type": "markdown",
   "metadata": {
    "colab_type": "text",
    "id": "qF1v0FBa5T0U"
   },
   "source": [
    "## オイラー法の実装と実行\n",
    "\n",
    "それでは，このオイラー法をPythonで実装してみよう．\n",
    "ここでは，簡単な例として\n",
    "$$\n",
    "\\begin{align}\n",
    "  f = -x(t) \\tag{5}\\\\\n",
    "\\end{align}\n",
    "$$\n",
    "とする．また，初期条件を$x(0)=1.0, y(0)=0$とする．\n",
    "\n",
    "このとき，オイラー法を実装すると下記のようになる．\n",
    "\n",
    "<font color=\"red\">\n",
    "（TODO） 下記のコードを理解し，セルを実行せよ\n",
    "</font>"
   ]
  },
  {
   "cell_type": "code",
   "execution_count": 0,
   "metadata": {
    "colab": {},
    "colab_type": "code",
    "id": "V0VLp3gXgG17"
   },
   "outputs": [],
   "source": [
    "import numpy as np"
   ]
  },
  {
   "cell_type": "code",
   "execution_count": 0,
   "metadata": {
    "colab": {},
    "colab_type": "code",
    "id": "aW4Fl7aWdCo9"
   },
   "outputs": [],
   "source": [
    "# 対象の関数定義\n",
    "def f(x, v):\n",
    "  return -x # f(x, y) = -x の実装"
   ]
  },
  {
   "cell_type": "code",
   "execution_count": 0,
   "metadata": {
    "colab": {},
    "colab_type": "code",
    "id": "EVDxyd-3KAMb"
   },
   "outputs": [],
   "source": [
    "# オイラー法\n",
    "\n",
    "# 計算条件を変数として定義\n",
    "x = 1.0 # xの初期値\n",
    "v = 0 # yの初期値\n",
    "t_ini = 0 # 初期時刻\n",
    "h = 0.2 # 積分刻み\n",
    "t_max = 10 + h # 終了時刻\n",
    "\n",
    "# 結果保存用の配列定義\n",
    "ts = np.arange(start=t_ini, stop=t_max, step=h) # tの時系列\n",
    "xs = np.zeros(len(ts)) # xの時系列\n",
    "vs = np.zeros(len(ts)) # yの時系列\n",
    "\n",
    "# 初期値の代入\n",
    "xs[0] = x\n",
    "vs[0] = v\n",
    "\n",
    "for i in range(1, len(ts)): # 初期値から最終値までループ\n",
    "  v += f(x, v) * h # 式(4)\n",
    "  x += v * h # 式(3)\n",
    "  # 結果を配列に代入\n",
    "  xs[i] = x \n",
    "  vs[i] = v"
   ]
  },
  {
   "cell_type": "markdown",
   "metadata": {
    "colab_type": "text",
    "id": "92J4ozh-FVL1"
   },
   "source": [
    "上のセルを実行ることで，オイラー法で計算された数値解が配列`xs`, `ys`に格納される．また，数値計算の各時刻は`ts`に格納される．得られた結果を確認していこう．\n",
    "\n",
    "<font color=\"red\">\n",
    "（TODO） 下記のコードを実行し，`ts`を横軸，`xs`を縦軸にプロットせよ．\n",
    "</font>"
   ]
  },
  {
   "cell_type": "code",
   "execution_count": 0,
   "metadata": {
    "colab": {},
    "colab_type": "code",
    "id": "hVrCGBBROVLO"
   },
   "outputs": [],
   "source": [
    "from matplotlib import pyplot as plt"
   ]
  },
  {
   "cell_type": "code",
   "execution_count": 0,
   "metadata": {
    "colab": {},
    "colab_type": "code",
    "id": "3URW_bGTjBWu"
   },
   "outputs": [],
   "source": [
    "plt.plot(ts, xs, '.')\n",
    "plt.xlabel('t')\n",
    "plt.ylabel('x')"
   ]
  },
  {
   "cell_type": "markdown",
   "metadata": {
    "colab_type": "text",
    "id": "f56o7oeEFv0j"
   },
   "source": [
    "<font color=\"red\">\n",
    "（TODO） 下記のコードを実行し，`ts`を横軸，`vs`を縦軸にプロットせよ．\n",
    "</font>"
   ]
  },
  {
   "cell_type": "code",
   "execution_count": 0,
   "metadata": {
    "colab": {},
    "colab_type": "code",
    "id": "tcGdr2Gqjs4D"
   },
   "outputs": [],
   "source": [
    "plt.plot(ts, vs, '.')\n",
    "plt.xlabel('t')\n",
    "plt.ylabel('v')"
   ]
  },
  {
   "cell_type": "markdown",
   "metadata": {
    "colab_type": "text",
    "id": "xcVqb4ZjnMSw"
   },
   "source": [
    "## 厳密解との比較\n",
    "\n",
    "さて，上で確認したオイラー法で得た数値解は妥当なものだろうか？これを検証するために，厳密解を導出して比較してみる．\n",
    "\n",
    "式(5)のとき，$x(t) = \\sin(t)$, $v(t) = \\cos(t)$は式(1)の特解である．よって，任意定数$A, B$を用いた，それらの一次結合\n",
    "\n",
    "$$\n",
    "x(t) = A \\sin(t) + B \\cos(t)\n",
    "\\tag{6}\n",
    "$$\n",
    "\n",
    "は式（1）の一般解となる．また，$v(t)$についての一般解は，\n",
    "$v(t) = \\frac{dx}{dt} = A \\cos(t) - B \\sin(t)$\n",
    "となる．\n",
    "\n",
    "ここで，初期条件から，\n",
    "\n",
    "$$\n",
    "x(0) = A \\sin(0) + B \\cos(0) \\Leftrightarrow x(0) = B = 1, \\\\\n",
    "v(0) = A \\cos(0) - B \\sin(0) \\Leftrightarrow v(0) = A = 0,\n",
    "$$\n",
    "\n",
    "であるから，式(1)の厳密解は\n",
    "\n",
    "$$\n",
    "x(t) = \\cos(t)\n",
    "\\tag{7}\n",
    "$$\n",
    "\n",
    "となることがわかる．"
   ]
  },
  {
   "cell_type": "markdown",
   "metadata": {
    "colab_type": "text",
    "id": "MkQ9HkByU6UJ"
   },
   "source": [
    "<font color=\"red\">\n",
    "（TODO） 下記のコードを実行し，厳密解を計算せよ．\n",
    "</font>"
   ]
  },
  {
   "cell_type": "code",
   "execution_count": 0,
   "metadata": {
    "colab": {},
    "colab_type": "code",
    "id": "JbMECAa6U3jd"
   },
   "outputs": [],
   "source": [
    "# 厳密解の算出\n",
    "xs_exact = np.cos(ts) # ts[i]をcos(ts[i])に変換して算出する"
   ]
  },
  {
   "cell_type": "markdown",
   "metadata": {
    "colab_type": "text",
    "id": "v6CglMtk2K_q"
   },
   "source": [
    "<font color=\"red\">\n",
    "（TODO） 下記のコードを実行し，得られた厳密解とオイラー法の数値解を同時にplotせよ．\n",
    "</font>"
   ]
  },
  {
   "cell_type": "code",
   "execution_count": 0,
   "metadata": {
    "colab": {},
    "colab_type": "code",
    "id": "DUNioMIX2teS"
   },
   "outputs": [],
   "source": [
    "# 厳密解とオイラー法の数値解をplot\n",
    "plt.plot(ts, xs_exact, '-r', label='Exact')\n",
    "plt.plot(ts, xs, '.g', label='Euler') # 既にオイラー法で計算済み\n",
    "plt.xlabel('t')\n",
    "plt.ylabel('x')\n",
    "plt.legend() # labelを表示する"
   ]
  },
  {
   "cell_type": "markdown",
   "metadata": {
    "colab_type": "text",
    "id": "uTPcON-E2-8X"
   },
   "source": [
    "出力されたグラフより，数値解（緑の点）と厳密解（赤の線）が，ある程度の精度で一致しており，数値解が妥当であったことがわかるはずだ．よって，オイラー法で微分方程式の数値解が求められることが確かめられた．\n",
    "\n",
    "\n"
   ]
  },
  {
   "cell_type": "markdown",
   "metadata": {
    "colab_type": "text",
    "id": "5HZMASjDW6S8"
   },
   "source": [
    "## オイラー法の問題点\n",
    "\n",
    "このように手軽に実装できるオイラー法だが，その精度が問題となることがある．\n",
    "\n",
    "確認のため，数値解と厳密解の平均絶対誤差（Mean Absolute Error）を計算してみよう．MAEの定義は以下のとおり．\n",
    "\n",
    "$$\n",
    "E = \\frac{1}{N} \\sum_{i=1}^{N} |x_{\\text{s}}(i) - x_{\\text{e}}(i)|\n",
    "\\tag{8}\n",
    "$$\n",
    "\n",
    "ここで，\n",
    "$x_{\\text{e}}(i)$は厳密解, \n",
    "$x_{\\text{s}}(i)$は数値解, \n",
    "$N$はデータの総数を示す．\n",
    "\n",
    "<font color=\"red\">\n",
    "（TODO） 次のコードを実行し，オイラー法で得た数値解の配列`xs`と，厳密解の配列`xs_exact`のMAEを計算せよ．\n",
    "</font>\n"
   ]
  },
  {
   "cell_type": "code",
   "execution_count": 0,
   "metadata": {
    "colab": {},
    "colab_type": "code",
    "id": "ZF3pVD8GC73A"
   },
   "outputs": [],
   "source": [
    "e_abs = np.abs(xs_exact - xs) # 厳密解と数値解の絶対誤差の配列\n",
    "np.mean(e_abs) # 上記の平均"
   ]
  },
  {
   "cell_type": "markdown",
   "metadata": {
    "colab_type": "text",
    "id": "iGfxRfgOeSmQ"
   },
   "source": [
    "結果からわかるように，今回のオイラー法では，$6.6\\times 10^{-2}$ 程度のMAEとなるはずである．\n",
    "\n",
    "このような誤差を減少させるには，次の2つの方法が考えられる．\n",
    "\n",
    "1. 積分刻み$h$を小さくする．\n",
    "2. より高精度な数値解析法を用いる．\n",
    "\n",
    "1の場合，誤差が小さくなるものの，計算コストが増加する．そこで，次のnotebookでは，2の方法について学ぶ．\n",
    "\n",
    "このノートブックの内容を一通り理解したら，[実験のTopページ](https://github.com/yyamnk/numerical-methods-py3/blob/master/uu_experiment.md) に戻り，次のノートブックに進むこと．"
   ]
  }
 ],
 "metadata": {
  "colab": {
   "collapsed_sections": [],
   "name": "exp_python2.ipynb",
   "provenance": []
  },
  "kernelspec": {
   "display_name": "Python 3",
   "language": "python",
   "name": "python3"
  },
  "language_info": {
   "codemirror_mode": {
    "name": "ipython",
    "version": 3
   },
   "file_extension": ".py",
   "mimetype": "text/x-python",
   "name": "python",
   "nbconvert_exporter": "python",
   "pygments_lexer": "ipython3",
   "version": "3.8.5"
  }
 },
 "nbformat": 4,
 "nbformat_minor": 1
}
