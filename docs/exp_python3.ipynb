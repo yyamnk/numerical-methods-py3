{
 "cells": [
  {
   "cell_type": "markdown",
   "metadata": {
    "colab_type": "text",
    "id": "B6SEtGKpcxQ6"
   },
   "source": [
    "# ルンゲクッタ法による常微分方程式の数値解析"
   ]
  },
  {
   "cell_type": "markdown",
   "metadata": {
    "colab_type": "text",
    "id": "l_3_9YDWOqpf"
   },
   "source": [
    "ここでは，オイラー法よりも計算精度が良く，広く用いられている4次のルンゲ・クッタ（Runge-Kutta）法を学ぶ．\n",
    "\n",
    "オイラー法のときと同様に，2階常微分方程式を1階化した\n",
    "\n",
    "$$\n",
    "\\begin{cases}\n",
    " \\frac{dx(t)}{dt} = v(t), \\\\\n",
    " \\frac{dv(t)}{dt} = f(x(t), v(t))\n",
    "\\end{cases}\n",
    "\\tag{2, 再掲}\n",
    "$$\n",
    "\n",
    "を考える．式（2）の数値解 $x_i$, $v_i$，$i=0, 1, 2, \\ldots,$は，４次のルンゲ・クッタ法により次のように計算される．\n",
    "\n",
    "$$\n",
    "\\begin{eqnarray}\n",
    "x_{i+1} &= x_i + \\frac{h}{6} \\left(k_{x1} + 2k_{x2} + 2k_{x3} + k_{x4} \\right),\n",
    "\\tag{9}\n",
    "\\\\\n",
    "%\n",
    "v_{i+1} &= v_i + \\frac{h}{6} \\left(k_{v1} + 2k_{v2} + 2k_{v3} + k_{v4} \\right)\n",
    "\\tag{10}\n",
    "\\end{eqnarray}\n",
    "$$\n",
    "\n",
    "ここで，\n",
    "\n",
    "$$\n",
    "\\begin{eqnarray}\n",
    "&k_{x1} = v_i, \\quad\n",
    "&k_{v1} = f(x_i, v_i),\\\\\n",
    "%\n",
    "&k_{x2} = v_i + \\frac{h k_{v1}}{2}, \\quad\n",
    "&k_{v2} = f\\left(x_i + \\frac{h k_{x1}}{2}, v_i + \\frac{h k_{v1}}{2} \\right),\\\\\n",
    "%\n",
    "&k_{x3} = v_i + \\frac{h k_{v2}}{2}, \\quad\n",
    "&k_{v3} = f\\left(x_i + \\frac{h k_{x2}}{2}, v_i + \\frac{h k_{v2}}{2} \\right),\\\\\n",
    "%\n",
    "&k_{x4} = v_i + h k_{v3}, \\quad\n",
    "&k_{v4} = f(x_i + h k_{x3}, v_i + h k_{v3}),\n",
    "\\end{eqnarray}\n",
    "$$\n",
    "\n",
    "であり，$h$は積分刻みである．"
   ]
  },
  {
   "cell_type": "markdown",
   "metadata": {
    "colab_type": "text",
    "id": "qF1v0FBa5T0U"
   },
   "source": [
    "では，ルンゲクッタ法をPythonで実装してみよう．ここでは\n",
    "\n",
    "$$\n",
    "\\begin{align}\n",
    "  f = -x(t) \\tag{5}\\\\\n",
    "\\end{align}\n",
    "$$\n",
    "\n",
    "とする．また，初期条件を$x(0)=1.0, y(0)=0$とする．\n",
    "\n",
    "このとき，ルンゲクッタ法を実装すると下記のようになる．\n",
    "\n",
    "<font color=\"red\">\n",
    "（TODO） 下記のコードを理解し，セルを実行せよ\n",
    "</font>"
   ]
  },
  {
   "cell_type": "code",
   "execution_count": 0,
   "metadata": {
    "colab": {},
    "colab_type": "code",
    "id": "aW4Fl7aWdCo9"
   },
   "outputs": [],
   "source": [
    "# 必要なライブラリのインポート\n",
    "import numpy as np\n",
    "from matplotlib import pyplot as plt\n",
    "\n",
    "# 関数定義\n",
    "def f(x, v):\n",
    "  return -x # dv/dt = f(x, y) = -x の実装\n",
    "\n",
    "# 計算条件を変数として定義\n",
    "x = 1.0 # xの初期値\n",
    "v = 0 # yの初期値\n",
    "t_ini = 0 # 初期時刻\n",
    "h = 0.2 # 積分刻み\n",
    "t_max = 10 + h # 終了時刻\n",
    "\n",
    "# 結果保存用の配列定義\n",
    "ts = np.arange(start=t_ini, stop=t_max, step=h) # tの時系列\n",
    "xs = np.zeros(len(ts)) # xの時系列\n",
    "vs = np.zeros(len(ts)) # yの時系列\n",
    "\n",
    "# 初期値の代入\n",
    "xs[0] = x\n",
    "vs[0] = v\n",
    "\n",
    "# ルンゲクッタ法\n",
    "for i in range(1, len(ts)): # i=1 から i=len(ts) までループ\n",
    "  kx1 = v\n",
    "  kv1 = f(x, v)\n",
    "  kx2 = v + h * kv1 / 2.0\n",
    "  kv2 = f(x + h * kx1 / 2.0, v + h * kv1 / 2.0)\n",
    "  kx3 = v + h * kv2 / 2.0\n",
    "  kv3 = f(x + h * kx2 / 2.0, v + h * kv2 / 2.0)\n",
    "  kx4 = v + h * kv3\n",
    "  kv4 = f(x + h * kx3, v + h * kv3)\n",
    "  # v, xの更新\n",
    "  v += (kv1 + 2.0 * kv2 + 2.0 * kv3 + kv4) * h / 6.0\n",
    "  x += (kx1 + 2.0 * kx2 + 2.0 * kx3 + kx4) * h / 6.0\n",
    "  # 結果の保存\n",
    "  xs[i] = x\n",
    "  vs[i] = v"
   ]
  },
  {
   "cell_type": "markdown",
   "metadata": {
    "colab_type": "text",
    "id": "mKgbtA3KjAMK"
   },
   "source": [
    "ルンゲ・クッタ法で計算された数値解が配列`xs`, `ys`に格納される．また，数値計算の各時刻は`ts`に格納される．\n",
    "\n",
    "<font color=\"red\">\n",
    "（TODO） 下記のコードを実行し，`ts`を横軸，`xs`を縦軸にプロットせよ．\n",
    "</font>"
   ]
  },
  {
   "cell_type": "code",
   "execution_count": 0,
   "metadata": {
    "colab": {},
    "colab_type": "code",
    "id": "3URW_bGTjBWu"
   },
   "outputs": [],
   "source": [
    "plt.plot(ts, xs, '.')\n",
    "plt.xlabel('t')\n",
    "plt.ylabel('x')"
   ]
  },
  {
   "cell_type": "markdown",
   "metadata": {
    "colab_type": "text",
    "id": "SxiLdEnZjK9D"
   },
   "source": [
    "<font color=\"red\">\n",
    "（TODO） 下記のコードを実行し，`ts`を横軸，`vs`を縦軸にプロットせよ．\n",
    "</font>"
   ]
  },
  {
   "cell_type": "code",
   "execution_count": 0,
   "metadata": {
    "colab": {},
    "colab_type": "code",
    "id": "tcGdr2Gqjs4D"
   },
   "outputs": [],
   "source": [
    "plt.plot(ts, vs, '.')\n",
    "plt.xlabel('t')\n",
    "plt.ylabel('v')"
   ]
  },
  {
   "cell_type": "markdown",
   "metadata": {
    "colab_type": "text",
    "id": "rUakMOJyjN3s"
   },
   "source": [
    "オイラー法のときと同様に，得られた数値解と厳密解を比較してみよう．\n",
    "\n",
    "<font color=\"red\">\n",
    "（TODO） 下記のコードを実行し，得られた厳密解とオイラー法の数値解を同時にplotせよ．\n",
    "</font>"
   ]
  },
  {
   "cell_type": "code",
   "execution_count": 0,
   "metadata": {
    "colab": {},
    "colab_type": "code",
    "id": "xcVqb4ZjnMSw"
   },
   "outputs": [],
   "source": [
    "xs_exact = np.cos(ts) # 厳密解\n",
    "\n",
    "# 厳密解とオイラー法の数値解をplot\n",
    "plt.plot(ts, xs_exact, '-r', label='Exact')\n",
    "plt.plot(ts, xs, '.g', label='RK') # 既にルンゲ・クッタ法で計算済み\n",
    "plt.xlabel('t')\n",
    "plt.ylabel('x')\n",
    "plt.legend() # labelを表示する"
   ]
  },
  {
   "cell_type": "markdown",
   "metadata": {
    "colab_type": "text",
    "id": "ccLbtYByjg9M"
   },
   "source": [
    "<font color=\"red\">\n",
    "（TODO） 次のコードを実行し，ルンゲ・クッタ法で得た数値解の配列`xs`と，厳密解の配列`xs_exact`のMAEを計算せよ．\n",
    "</font>"
   ]
  },
  {
   "cell_type": "code",
   "execution_count": 0,
   "metadata": {
    "colab": {},
    "colab_type": "code",
    "id": "HmZuKwIjCjhP"
   },
   "outputs": [],
   "source": [
    "np.mean(np.abs(xs - xs_exact))"
   ]
  },
  {
   "cell_type": "markdown",
   "metadata": {
    "colab_type": "text",
    "id": "u0h2J58gjmv-"
   },
   "source": [
    "出力された結果から，今回のルンゲ・クッタ法では，$4.0\\times10^{-5}$程度のMAEとなるはずだ．よって，ルンゲ・クッタ法はオイラー法よりも高精度な数値解が得られることが確かめられた．"
   ]
  },
  {
   "cell_type": "markdown",
   "metadata": {
    "colab_type": "text",
    "id": "V4D235YFI_5F"
   },
   "source": [
    "# ここまでのまとめ\n",
    "\n",
    "数値解析手法であるオイラー法とルンゲ・クッタ法をPythonを用いて実装し，その動作を確認した．両手法ともに，常微分方程式の1階化ができれば，適用できることがわかっただろう．\n",
    "\n",
    "ここまでの内容を一通り理解したら，[実験のTopページ](https://github.com/yyamnk/numerical-methods-py3/blob/master/uu_experiment.md) に戻り，レポート課題に取り組んでほしい．"
   ]
  }
 ],
 "metadata": {
  "colab": {
   "collapsed_sections": [],
   "name": "exp_python3.ipynb",
   "provenance": []
  },
  "kernelspec": {
   "display_name": "Python 3",
   "language": "python",
   "name": "python3"
  },
  "language_info": {
   "codemirror_mode": {
    "name": "ipython",
    "version": 3
   },
   "file_extension": ".py",
   "mimetype": "text/x-python",
   "name": "python",
   "nbconvert_exporter": "python",
   "pygments_lexer": "ipython3",
   "version": "3.8.5"
  }
 },
 "nbformat": 4,
 "nbformat_minor": 1
}
