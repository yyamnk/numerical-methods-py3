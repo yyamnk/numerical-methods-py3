{
 "cells": [
  {
   "cell_type": "markdown",
   "metadata": {
    "colab_type": "text",
    "id": "zJXQZAmWYW8P"
   },
   "source": [
    "# はじめに\n",
    "\n",
    "本実験では，PythonとGoogle Colaboratory（以下，Colab）を使用して，力学系の数値解析手法を学ぶ．PythonとColabの特徴は以下のとおり．\n",
    "\n",
    "- Pythonとは\n",
    "  - プログラミング言語の1つで，現在，広く利用されている．\n",
    "- Google Colaboratory（Colab）とは\n",
    "  - ブラウザ上で Python を記述して実行できるツール．\n",
    "    - 具体的には，まずブラウザで表示されるノートブック（今開いているこのページが1つのノートブックである）を作成し，そこにPythonコードの記述と実行を行う．\n",
    "    - Pythonコードの他に，テキストも入力できる\n",
    "    - 連続使用が12時間を超えるか，ノートブックを90分程度操作しないと，自動的に切断される．\n",
    "    - 上記の制約のため，ノートブックを細かく保存すること（保存方法は次に説明する）\n",
    "\n",
    "\n",
    "Colabの概要について説明している，[Google Colaboratory の開始方法 (日本語字幕あり)](https://www.youtube.com/watch?v=inN8seMm7UI)を視聴すること．"
   ]
  },
  {
   "cell_type": "markdown",
   "metadata": {
    "colab_type": "text",
    "id": "CWReg0ZcFAcC"
   },
   "source": [
    "# 実験の進め方\n",
    "\n",
    "本実験では，Colabのノートブックを使って進めていく．\n",
    "\n",
    "- ノートブックは，複数のセルから構成されている．\n",
    "- セルには，\n",
    "    - 文字を入力するための`テキストセル`，\n",
    "    - Pythonのコードを入力するための`コードセル`がある．\n",
    "\n",
    "セルに書かれた説明を読み，コードを実行していくことで，内容の理解を深めてほしい．\n",
    "特に，\n",
    "<font color=\"red\">\n",
    "（TODO）\n",
    "</font>\n",
    "と書かれた指示は必ず実行すること．\n",
    "ノートブックの内容を順に理解していけば，最後のレポート課題が解けるはずだ．\n",
    "\n",
    "ノートブックには，各自がコードの追加や，実行ができる．プログラムを学ぶためにその動作を確認することは重要なので，積極的にコードを書き，実行してみること．\n",
    "\n",
    "その試行錯誤の過程でノートブックを壊滅的に壊してしまった場合でも，この初期状態から再開できる．その場合は，\n",
    "[実験のTopページ](https://github.com/yyamnk/numerical-methods-py3/blob/master/uu_experiment.md)\n",
    "からやり直すこと．\n"
   ]
  },
  {
   "cell_type": "markdown",
   "metadata": {
    "colab_type": "text",
    "id": "8IBDc0QlFJB8"
   },
   "source": [
    "次に，ノートブックの保存方法を説明する．\n",
    "現在，開いているノートブックは教科書用であり，編集や実行ができない状態である．そこで，次の手順で実験を進めること．\n",
    "\n",
    "1. [実験のTopページ](https://github.com/yyamnk/numerical-methods-py3/blob/master/uu_experiment.md)から，教科書用ノートブックを開く（今ここ）\n",
    "2. 下図のように，ブラウザの左上から`ファイル` -> `ドライブにコピーを保存`をクリックし，ノートブックを各自のGoogle Driveへ保存する．\n",
    "3. コピーしたノートブックが開かれたら，それを編集・実行しながら学習を進める．\n",
    "\n",
    "![図1 ノートブックの保存](https://docs.google.com/uc?export=download&id=1_0LtxmcJs4FmNjKKKNvr41qCNKNG4aoE)\n",
    "\n",
    "保存したコピーが開けたら，実験を始めよう．"
   ]
  },
  {
   "cell_type": "markdown",
   "metadata": {
    "colab_type": "text",
    "id": "qjGqfnXvXG_K"
   },
   "source": [
    "# 四則演算\n",
    "\n",
    "まず最初に，Pythonによる四則演算を学ぶ．\n",
    "Pythonコードの入力と実行は，次の手順で行う．\n",
    "\n",
    "1. ブラウザ左上にある「+ コード」をクリックして`コードセル`を追加\n",
    "2. 追加されたセルをクリックし，プログラムを記述\n",
    "3. セルの左端にある「▷（再生ボタン）」をクリックして，セルを実行する\n",
    "  - [方法がわからない場合は，ここを視聴せよ](https://youtu.be/inN8seMm7UI?t=27)\n",
    "\n",
    "ここでは，例として，既にPythonコードを入力したセルを用意した．このセルを実行してみよう．"
   ]
  },
  {
   "cell_type": "code",
   "execution_count": 1,
   "metadata": {
    "colab": {},
    "colab_type": "code",
    "id": "vT29vdIWvfkC"
   },
   "outputs": [
    {
     "data": {
      "text/plain": [
       "6"
      ]
     },
     "execution_count": 1,
     "metadata": {},
     "output_type": "execute_result"
    }
   ],
   "source": [
    "# ここはコメント．Pythonは#記号以降の文字を無視する．\n",
    "\n",
    "1 + 5 # 和，このセルを実行すると，計算結果が出力される（初回の実行では多少の時間がかかる）"
   ]
  },
  {
   "cell_type": "markdown",
   "metadata": {
    "colab_type": "text",
    "id": "AjczMrEiKKMM"
   },
   "source": [
    "セルを実行すると，結果が出力されたはずだ．"
   ]
  },
  {
   "cell_type": "markdown",
   "metadata": {
    "colab_type": "text",
    "id": "BxUX2t8PINzR"
   },
   "source": [
    "<font color=\"red\">\n",
    "（TODO）適当な2つの数の，差・積・商を計算するコードを作成し，実行せよ．ここでは，1つのセルに1つの四則演算のみとすること．また，手計算と比較して動作を確かめよ．\n",
    "</font>"
   ]
  },
  {
   "cell_type": "code",
   "execution_count": 2,
   "metadata": {
    "colab": {},
    "colab_type": "code",
    "id": "VztZtNDZ95sz"
   },
   "outputs": [
    {
     "data": {
      "text/plain": [
       "5"
      ]
     },
     "execution_count": 2,
     "metadata": {},
     "output_type": "execute_result"
    }
   ],
   "source": [
    "# 差を計算するコード\n",
    "10 - 5"
   ]
  },
  {
   "cell_type": "code",
   "execution_count": 3,
   "metadata": {
    "colab": {},
    "colab_type": "code",
    "id": "bHUM1yMm98bH"
   },
   "outputs": [
    {
     "data": {
      "text/plain": [
       "10"
      ]
     },
     "execution_count": 3,
     "metadata": {},
     "output_type": "execute_result"
    }
   ],
   "source": [
    "# 積を計算するコード\n",
    "2 * 5"
   ]
  },
  {
   "cell_type": "code",
   "execution_count": 4,
   "metadata": {
    "colab": {},
    "colab_type": "code",
    "id": "nmR8c80P-AtX"
   },
   "outputs": [
    {
     "data": {
      "text/plain": [
       "1.5"
      ]
     },
     "execution_count": 4,
     "metadata": {},
     "output_type": "execute_result"
    }
   ],
   "source": [
    "# 商を計算するコード\n",
    "3 / 2"
   ]
  },
  {
   "cell_type": "markdown",
   "metadata": {
    "colab_type": "text",
    "id": "dBmYElvvHaqe"
   },
   "source": [
    "# 累乗\n",
    "\n",
    "Pythonでは，累乗を`**`で表す．\n",
    "\n",
    "<font color=\"red\">\n",
    "（TODO）コメントに書かれた計算を行うコードを作成し，実行して動作を確かめよ．\n",
    "</font>"
   ]
  },
  {
   "cell_type": "code",
   "execution_count": 5,
   "metadata": {},
   "outputs": [
    {
     "data": {
      "text/plain": [
       "100"
      ]
     },
     "execution_count": 5,
     "metadata": {},
     "output_type": "execute_result"
    }
   ],
   "source": [
    "# 例：10の2乗を計算せよ\n",
    "10**2"
   ]
  },
  {
   "cell_type": "code",
   "execution_count": 6,
   "metadata": {
    "colab": {},
    "colab_type": "code",
    "id": "S8RNVAsUHl3D"
   },
   "outputs": [
    {
     "data": {
      "text/plain": [
       "8"
      ]
     },
     "execution_count": 6,
     "metadata": {},
     "output_type": "execute_result"
    }
   ],
   "source": [
    "# 2の3乗を計算せよ\n",
    "2 ** 3"
   ]
  },
  {
   "cell_type": "code",
   "execution_count": 7,
   "metadata": {
    "colab": {},
    "colab_type": "code",
    "id": "-u6g2FJMHt4z"
   },
   "outputs": [
    {
     "data": {
      "text/plain": [
       "1.4142135623730951"
      ]
     },
     "execution_count": 7,
     "metadata": {},
     "output_type": "execute_result"
    }
   ],
   "source": [
    "# 2の平方根を計算せよ\n",
    "2 ** 0.5"
   ]
  },
  {
   "cell_type": "markdown",
   "metadata": {
    "colab_type": "text",
    "id": "jsGblmsbIWd0"
   },
   "source": [
    "# 複素数\n",
    "\n",
    "Pythonでは，複素数の演算もサポートされている．虚数には`j`をつけること．\n",
    "\n",
    "<font color=\"red\">\n",
    "（TODO）コメントに書かれた計算を行うコードを作成し，実行して動作を確かめよ．\n",
    "</font>"
   ]
  },
  {
   "cell_type": "code",
   "execution_count": 8,
   "metadata": {
    "colab": {},
    "colab_type": "code",
    "id": "M2NUV7w2IxBH"
   },
   "outputs": [
    {
     "data": {
      "text/plain": [
       "(4+6j)"
      ]
     },
     "execution_count": 8,
     "metadata": {},
     "output_type": "execute_result"
    }
   ],
   "source": [
    "# 例\n",
    "(1 + 2j) + (3 + 4j)"
   ]
  },
  {
   "cell_type": "code",
   "execution_count": 9,
   "metadata": {},
   "outputs": [
    {
     "data": {
      "text/plain": [
       "(5+1j)"
      ]
     },
     "execution_count": 9,
     "metadata": {},
     "output_type": "execute_result"
    }
   ],
   "source": [
    "# j + 5　を計算せよ\n",
    "1j + 5"
   ]
  },
  {
   "cell_type": "markdown",
   "metadata": {
    "colab_type": "text",
    "id": "3pWMxGGVXDYR"
   },
   "source": [
    "# 変数\n",
    "\n",
    "Pythonでは，数値等を変数に代入できる．\n",
    "ここでは変数の定義・代入と，変数を使った計算をやってみよう．\n",
    "\n",
    "<font color=\"red\">\n",
    "（TODO）以下のセルを実行し，動作を確認せよ．\n",
    "</font>"
   ]
  },
  {
   "cell_type": "code",
   "execution_count": 10,
   "metadata": {
    "colab": {},
    "colab_type": "code",
    "id": "6GwKGXLxguCn"
   },
   "outputs": [],
   "source": [
    "x = 10 # `x`という変数を定義し，10を代入する．\n",
    "# 代入のみの場合，このセルを実行しても出力は無いが，内部で処理はされている．"
   ]
  },
  {
   "cell_type": "markdown",
   "metadata": {
    "colab_type": "text",
    "id": "0-WMfyDN5TGs"
   },
   "source": [
    "このように定義した変数は，同一のnotebookでいつでも参照できる．"
   ]
  },
  {
   "cell_type": "code",
   "execution_count": 11,
   "metadata": {
    "colab": {},
    "colab_type": "code",
    "id": "iGLiA9rQc6_s"
   },
   "outputs": [
    {
     "data": {
      "text/plain": [
       "10"
      ]
     },
     "execution_count": 11,
     "metadata": {},
     "output_type": "execute_result"
    }
   ],
   "source": [
    "x # 定義した変数の参照方法1: 変数のみを書く"
   ]
  },
  {
   "cell_type": "code",
   "execution_count": 12,
   "metadata": {
    "colab": {},
    "colab_type": "code",
    "id": "8vSerwni5fWh"
   },
   "outputs": [
    {
     "name": "stdout",
     "output_type": "stream",
     "text": [
      "10\n"
     ]
    }
   ],
   "source": [
    "print(x) # # 定義した変数の参照方法2: print()を用いる"
   ]
  },
  {
   "cell_type": "markdown",
   "metadata": {
    "colab_type": "text",
    "id": "KCOQsFS2LZCz"
   },
   "source": [
    "<font color=\"red\">\n",
    "（TODO）コメントに書かれた計算を行うコードを作成し，実行して動作を確かめよ．\n",
    "</font>"
   ]
  },
  {
   "cell_type": "code",
   "execution_count": 13,
   "metadata": {
    "colab": {},
    "colab_type": "code",
    "id": "TDsLHUmThCJZ"
   },
   "outputs": [
    {
     "data": {
      "text/plain": [
       "100"
      ]
     },
     "execution_count": 13,
     "metadata": {},
     "output_type": "execute_result"
    }
   ],
   "source": [
    "# xを10倍を計算せよ．\n",
    "10 * x"
   ]
  },
  {
   "cell_type": "code",
   "execution_count": 14,
   "metadata": {
    "colab": {},
    "colab_type": "code",
    "id": "TDsLHUmThCJZ"
   },
   "outputs": [
    {
     "data": {
      "text/plain": [
       "1000"
      ]
     },
     "execution_count": 14,
     "metadata": {},
     "output_type": "execute_result"
    }
   ],
   "source": [
    "# xの3乗を計算せよ．\n",
    "x ** 3"
   ]
  },
  {
   "cell_type": "markdown",
   "metadata": {
    "colab_type": "text",
    "id": "4oTKy6PaKBob"
   },
   "source": [
    "# プログラム例：2次方程式の解の公式\n",
    "\n",
    "ここまでの知識で，2次方程式の解を計算するプログラムを考えてみよう．\n",
    "\n",
    "$$\n",
    "a x^2 + b x + c = 0\n",
    "$$\n",
    "の解は，解の公式より\n",
    "$$\n",
    "x = \\frac{-b \\pm \\sqrt{b^2 - 4 a c}}{2a}\n",
    "$$\n",
    "である．\n",
    "\n",
    "<font color=\"red\">\n",
    "（TODO）コメントに書かれた計算を行うコードを作成し，手計算と比較せよ．\n",
    "</font>"
   ]
  },
  {
   "cell_type": "code",
   "execution_count": 15,
   "metadata": {},
   "outputs": [
    {
     "name": "stdout",
     "output_type": "stream",
     "text": [
      "(3+2j)\n",
      "(3-2j)\n"
     ]
    }
   ],
   "source": [
    "# 上式の解の公式を使って，2つの解を求めるコードを作成せよ．\n",
    "# ただし，変数a, b, cを定義すること．その値は a=1, b=-6, c=13とすること．\n",
    "\n",
    "a = 1\n",
    "b = -6\n",
    "c = 13\n",
    "print((-b + (b**2 - 4*a*c)**0.5) / (2*a))\n",
    "print((-b - (b**2 - 4*a*c)**0.5) / (2*a))"
   ]
  },
  {
   "cell_type": "markdown",
   "metadata": {
    "colab_type": "text",
    "id": "_U2pE4c4iBpb"
   },
   "source": [
    "# Numpy 配列\n",
    "\n",
    "プログラミングでは，複数の値を数例として管理したいことがある．これを実現するデータ構造を配列と呼ぶ．\n",
    "\n",
    "Pythonには，配列を実現する方法はいくつかあるが，本実験では，`Numpy 配列`を用いる．基本的な使い方は以下の通り．\n",
    "\n",
    "<font color=\"red\">\n",
    "（TODO）以下のセルを実行し，動作を確認せよ\n",
    "</font>"
   ]
  },
  {
   "cell_type": "code",
   "execution_count": 16,
   "metadata": {
    "colab": {},
    "colab_type": "code",
    "id": "2wMT0l0Kzp9r"
   },
   "outputs": [],
   "source": [
    "# Numpyを用いるためにライブラリを読み込む．\n",
    "import numpy as np  # これにより，以降のセルでは`np`と書くことでnumpyの機能が使える．"
   ]
  },
  {
   "cell_type": "code",
   "execution_count": 17,
   "metadata": {
    "colab": {},
    "colab_type": "code",
    "id": "2Bm1OrsHN9RY"
   },
   "outputs": [
    {
     "data": {
      "text/plain": [
       "array([1, 2, 3, 3, 5])"
      ]
     },
     "execution_count": 17,
     "metadata": {},
     "output_type": "execute_result"
    }
   ],
   "source": [
    "# 次に，配列を定義する．\n",
    "xs = np.array([1, 2, 3, 3, 5]) # 要素は[]で指定する\n",
    "xs # 確認のため，xsを出力する"
   ]
  },
  {
   "cell_type": "code",
   "execution_count": 18,
   "metadata": {
    "colab": {},
    "colab_type": "code",
    "id": "eYkMaUDEMwZh"
   },
   "outputs": [
    {
     "data": {
      "text/plain": [
       "array([0., 0., 0., 0., 0.])"
      ]
     },
     "execution_count": 18,
     "metadata": {},
     "output_type": "execute_result"
    }
   ],
   "source": [
    "# 全ての要素がゼロの配列も定義できる．ここでは要素が5個の配列を定義する．\n",
    "xs = np.zeros(5)\n",
    "xs # 確認のため，xsを出力する"
   ]
  },
  {
   "cell_type": "code",
   "execution_count": 19,
   "metadata": {
    "colab": {},
    "colab_type": "code",
    "id": "W2cEHijoz9zu"
   },
   "outputs": [
    {
     "data": {
      "text/plain": [
       "array([10., 20., 30.,  0.,  0.])"
      ]
     },
     "execution_count": 19,
     "metadata": {},
     "output_type": "execute_result"
    }
   ],
   "source": [
    "# 定義したNumpy配列へ値を代入する\n",
    "# 代入するときは，0からはじまる配列の要素番号を指定し，`=`で値を代入する\n",
    "xs[0] = 10 # 配列の先頭に代入\n",
    "xs[1] = 20 # 2番目の要素に代入\n",
    "xs[2] = 30 # 3番目の要素に代入\n",
    "xs # 確認のため，xsを出力する"
   ]
  },
  {
   "cell_type": "code",
   "execution_count": 20,
   "metadata": {
    "colab": {},
    "colab_type": "code",
    "id": "eMbk5Jn4PFy_"
   },
   "outputs": [
    {
     "data": {
      "text/plain": [
       "30.0"
      ]
     },
     "execution_count": 20,
     "metadata": {},
     "output_type": "execute_result"
    }
   ],
   "source": [
    "# 配列の要素を呼び出したい場合は，`配列名[インデックス番号]`とする\n",
    "xs[2]"
   ]
  },
  {
   "cell_type": "markdown",
   "metadata": {
    "colab_type": "text",
    "id": "uu8mpruxhxV6"
   },
   "source": [
    "数値計算でよく用いるのは，初期値，値の刻み幅，最終値から配列を作成することだ．これは，次のように記述できる．"
   ]
  },
  {
   "cell_type": "code",
   "execution_count": 21,
   "metadata": {
    "colab": {},
    "colab_type": "code",
    "id": "tHwjz-rkiOaQ"
   },
   "outputs": [
    {
     "data": {
      "text/plain": [
       "array([10. , 10.5, 11. , 11.5, 12. , 12.5, 13. , 13.5, 14. , 14.5])"
      ]
     },
     "execution_count": 21,
     "metadata": {},
     "output_type": "execute_result"
    }
   ],
   "source": [
    "ts = np.arange(start=10, stop=15, step=0.5) # 初期値10, 終了値15, 刻み幅0.5の数列を定義する\n",
    "ts"
   ]
  },
  {
   "cell_type": "markdown",
   "metadata": {
    "colab_type": "text",
    "id": "0jObG0wzUSq-"
   },
   "source": [
    "# 組み込み関数\n",
    "\n",
    "プログラムでは，頻繁に実行する手続き・処理がある．このような処理を，いつでも使えるように部品のような形にまとめたものを`関数`という．\n",
    "\n",
    "Pythonには便利な関数が予め実装されている．このような関数を組み込み関数と呼ぶ．\n",
    "組み込み関数の例として，\n",
    "- 配列の長さを返す`len()`\n",
    "- Numpy配列の要素の平均を返す`np.mean()`\n",
    "- Numpy配列の絶対値を返す`np.abs()`\n",
    "- Numpy配列の$\\cos, \\sin$を返す`np.cos()`, `np.sin()`\n",
    "\n",
    "などがある．\n",
    "`()`の中には変数を書く．これを引数と呼ぶ．また，関数の出力は返り値と呼ばれる．\n",
    "\n",
    "<font color=\"red\">\n",
    "（TODO）以下のセルを実行し，動作を確認せよ\n",
    "</font>"
   ]
  },
  {
   "cell_type": "code",
   "execution_count": 22,
   "metadata": {
    "colab": {},
    "colab_type": "code",
    "id": "m0bx1b2eqcBk"
   },
   "outputs": [
    {
     "data": {
      "text/plain": [
       "5"
      ]
     },
     "execution_count": 22,
     "metadata": {},
     "output_type": "execute_result"
    }
   ],
   "source": [
    "len(xs) # 配列の長さを出力する（引数：配列xs, 返り値：xsの要素数）"
   ]
  },
  {
   "cell_type": "code",
   "execution_count": 23,
   "metadata": {
    "colab": {},
    "colab_type": "code",
    "id": "duirZpX0xPIe"
   },
   "outputs": [
    {
     "data": {
      "text/plain": [
       "12.0"
      ]
     },
     "execution_count": 23,
     "metadata": {},
     "output_type": "execute_result"
    }
   ],
   "source": [
    "np.mean(xs) # 配列の各要素の平均を出力する（引数：配列xs, 返り値：xsの要素の平均）"
   ]
  },
  {
   "cell_type": "code",
   "execution_count": 24,
   "metadata": {
    "colab": {},
    "colab_type": "code",
    "id": "t4FwlMSIyTth"
   },
   "outputs": [
    {
     "data": {
      "text/plain": [
       "array([1, 2, 3, 4])"
      ]
     },
     "execution_count": 24,
     "metadata": {},
     "output_type": "execute_result"
    }
   ],
   "source": [
    "np.abs(np.array([-1, 2, -3, 4])) # 配列の各要素の絶対値を出力する"
   ]
  },
  {
   "cell_type": "markdown",
   "metadata": {},
   "source": [
    "# 独自関数\n",
    "\n",
    "\n",
    "Pythonでは，組み込み関数だけれはなく，ユーザが独自定義する関数も利用することができる．ここでは関数の定義と実行を行ってみよう．\n",
    "\n",
    "半径rの円周cを求めたい．\n",
    "$$\n",
    "c = 2 * pi * r\n",
    "$$\n",
    "ここで，$pi=3.14$, $b=3$とすると，Pythonコードは次のようになる．\n",
    "\n",
    "<font color=\"red\">\n",
    "（TODO）以下のセルを実行し，動作を確認せよ\n",
    "</font>"
   ]
  },
  {
   "cell_type": "code",
   "execution_count": 25,
   "metadata": {
    "colab": {},
    "colab_type": "code",
    "id": "jJmZeXNLaEYm"
   },
   "outputs": [],
   "source": [
    "# 関数の定義\n",
    "def circle(r): # 関数の定義は，def 関数名（入力変数）: で行う．\n",
    "  # 関数内のコードは，インデント（行頭に半角スペース2個を入れること）する．\n",
    "  pi = 3.14 # 変数を定義（この変数は関数の中でのみ有効）\n",
    "  c = 2 * pi * r\n",
    "  return c # 返り値はreturnで書く．"
   ]
  },
  {
   "cell_type": "code",
   "execution_count": 26,
   "metadata": {
    "colab": {},
    "colab_type": "code",
    "id": "RZijlHEPaY4w"
   },
   "outputs": [
    {
     "data": {
      "text/plain": [
       "31.400000000000002"
      ]
     },
     "execution_count": 26,
     "metadata": {},
     "output_type": "execute_result"
    }
   ],
   "source": [
    "# 定義した関数を使って，半径5の円周を求める．\n",
    "# 関数の実行，組み込み関数と同様に`関数名(引数)`とする\n",
    "circle(5)"
   ]
  },
  {
   "cell_type": "markdown",
   "metadata": {
    "colab_type": "text",
    "id": "P541lXDNlfbQ"
   },
   "source": [
    "<font color=\"red\">\n",
    "（TODO）以下のセルに，定義した関数circleを使って，半径10と30の円周を求めよ．\n",
    "</font>\n"
   ]
  },
  {
   "cell_type": "code",
   "execution_count": 27,
   "metadata": {
    "colab": {},
    "colab_type": "code",
    "id": "4j4bpdhydGlw"
   },
   "outputs": [
    {
     "data": {
      "text/plain": [
       "62.800000000000004"
      ]
     },
     "execution_count": 27,
     "metadata": {},
     "output_type": "execute_result"
    }
   ],
   "source": [
    "# 半径10の円周\n",
    "circle(10)"
   ]
  },
  {
   "cell_type": "code",
   "execution_count": 28,
   "metadata": {
    "colab": {},
    "colab_type": "code",
    "id": "dNCSAVVY0ZaT"
   },
   "outputs": [
    {
     "data": {
      "text/plain": [
       "188.4"
      ]
     },
     "execution_count": 28,
     "metadata": {},
     "output_type": "execute_result"
    }
   ],
   "source": [
    "# 半径30の円周\n",
    "circle(30)"
   ]
  },
  {
   "cell_type": "markdown",
   "metadata": {
    "colab_type": "text",
    "id": "P541lXDNlfbQ"
   },
   "source": [
    "<font color=\"red\">\n",
    "（TODO）剛体円盤の慣性モーメントを求める関数を定義せよ．ただし，剛体円盤の質量mと半径rを入力引数とすること．\n",
    "</font>"
   ]
  },
  {
   "cell_type": "code",
   "execution_count": 29,
   "metadata": {},
   "outputs": [],
   "source": [
    "def inertia(m,r):\n",
    "    i = m * r**2 / 2 # 剛体円盤の慣性モーメント = 1/2 * M * r**2\n",
    "    return i"
   ]
  },
  {
   "cell_type": "markdown",
   "metadata": {
    "colab_type": "text",
    "id": "P541lXDNlfbQ"
   },
   "source": [
    "<font color=\"red\">\n",
    "（TODO）作成した関数を使って，m=2, r=10の剛体円盤の慣性モーメントを求めよ．\n",
    "</font>"
   ]
  },
  {
   "cell_type": "code",
   "execution_count": 30,
   "metadata": {},
   "outputs": [
    {
     "data": {
      "text/plain": [
       "100.0"
      ]
     },
     "execution_count": 30,
     "metadata": {},
     "output_type": "execute_result"
    }
   ],
   "source": [
    "inertia(2,10) # 別解 inertia(m=2, r=10)"
   ]
  },
  {
   "cell_type": "markdown",
   "metadata": {
    "colab_type": "text",
    "id": "pUSRi1JVhh-B"
   },
   "source": [
    "# for文\n",
    "\n",
    "ある処理を繰り返すとき，for文を用いる．\n",
    "\n",
    "例えば，「0から`n`まで，1刻みの数字を表示する」という処理を考えよう．\n",
    "このとき，\n",
    "```\n",
    "print(0)\n",
    "print(1)\n",
    "...(略)...\n",
    "print(n)\n",
    "```\n",
    "と書くのは大変だが，for文を使えば以下のように書ける．\n",
    "\n",
    "<font color=\"red\">\n",
    "（TODO）以下のセルを実行し，動作を確認せよ\n",
    "</font>"
   ]
  },
  {
   "cell_type": "code",
   "execution_count": 31,
   "metadata": {
    "colab": {},
    "colab_type": "code",
    "id": "mR4Dvrfhh5ck"
   },
   "outputs": [
    {
     "name": "stdout",
     "output_type": "stream",
     "text": [
      "0\n",
      "1\n",
      "2\n",
      "3\n",
      "4\n",
      "5\n",
      "6\n",
      "7\n",
      "8\n",
      "9\n",
      "10\n",
      "終了\n"
     ]
    }
   ],
   "source": [
    "# 0からnまでの数字を表示するプログラム\n",
    "n = 10\n",
    "for i in range(0, n + 1): # 変数`i`には，0からnまでの数字が逐次代入される．\n",
    "  print(i) # iの値を画面出力する．for文内のコードはインデントする\n",
    "\n",
    "print('終了') # この行はインデントされていないので，for文には含まれない．"
   ]
  },
  {
   "cell_type": "markdown",
   "metadata": {
    "colab_type": "text",
    "id": "sFRVv1myjgvC"
   },
   "source": [
    "上記のコードでは，`print(n)`の行がインデント（行の先頭に半角スペースが2個あること）されていることがわかる．for文は，直後のインデントされたコードのみを繰り返し実行する．そのため，最後の`print(終了)`は1度のみ実行されている．"
   ]
  },
  {
   "cell_type": "markdown",
   "metadata": {
    "colab_type": "text",
    "id": "rBtj358JU0eJ"
   },
   "source": [
    "# グラフの作成\n",
    "\n",
    "数値計算の結果をグラフに描写することができる．\n",
    "\n",
    "<font color=\"red\">\n",
    "（TODO）以下のセルを実行し，動作を確認せよ\n",
    "</font>"
   ]
  },
  {
   "cell_type": "code",
   "execution_count": 32,
   "metadata": {
    "colab": {},
    "colab_type": "code",
    "id": "DTWihjroEqyJ"
   },
   "outputs": [],
   "source": [
    "from matplotlib import pyplot as plt # グラフ描写に用いるpyplotというライブラリを読み込む\n",
    "# 以降，`plt`と書くことで利用できる．"
   ]
  },
  {
   "cell_type": "code",
   "execution_count": 33,
   "metadata": {
    "colab": {},
    "colab_type": "code",
    "id": "YT7N7qMvEweY"
   },
   "outputs": [
    {
     "data": {
      "text/plain": [
       "[<matplotlib.lines.Line2D at 0x7feef8869790>]"
      ]
     },
     "execution_count": 33,
     "metadata": {},
     "output_type": "execute_result"
    },
    {
     "data": {
      "image/png": "[encoded data removed]",
      "text/plain": [
       "<Figure size 432x288 with 1 Axes>"
      ]
     },
     "metadata": {
      "needs_background": "light"
     },
     "output_type": "display_data"
    }
   ],
   "source": [
    "xs = np.array([0, 1, 2, 3, 4]) # x軸となるnumpy配列\n",
    "ys = np.array([-1, 1, -1, 1, -1]) # y軸となるnumpy配列\n",
    "plt.plot(xs, ys) # plt.plot()は，最初の引数がx軸，2番目の引数がy軸となるようにグラフを作成する．"
   ]
  },
  {
   "cell_type": "code",
   "execution_count": 34,
   "metadata": {
    "colab": {},
    "colab_type": "code",
    "id": "o2Pd5aIsSagv"
   },
   "outputs": [
    {
     "data": {
      "text/plain": [
       "[<matplotlib.lines.Line2D at 0x7feef075f0a0>]"
      ]
     },
     "execution_count": 34,
     "metadata": {},
     "output_type": "execute_result"
    },
    {
     "data": {
      "image/png": "[encoded data removed]",
      "text/plain": [
       "<Figure size 432x288 with 1 Axes>"
      ]
     },
     "metadata": {
      "needs_background": "light"
     },
     "output_type": "display_data"
    }
   ],
   "source": [
    "# どの変数をx軸，y軸に割り当てるかは，変数を書く順番による．\n",
    "# x軸にys, y軸にxsをplotするには，次のようにする．\n",
    "plt.plot(ys, xs)"
   ]
  },
  {
   "cell_type": "code",
   "execution_count": 35,
   "metadata": {
    "colab": {},
    "colab_type": "code",
    "id": "zDQhSnIPTvZS"
   },
   "outputs": [
    {
     "data": {
      "text/plain": [
       "[<matplotlib.lines.Line2D at 0x7feef0746a60>]"
      ]
     },
     "execution_count": 35,
     "metadata": {},
     "output_type": "execute_result"
    },
    {
     "data": {
      "image/png": "[encoded data removed]",
      "text/plain": [
       "<Figure size 432x288 with 1 Axes>"
      ]
     },
     "metadata": {
      "needs_background": "light"
     },
     "output_type": "display_data"
    }
   ],
   "source": [
    "# 複数のグラフを同時に描写する\n",
    "plt.plot(xs, ys, 'r-') # '-r'はオプションで，plot xs and ys using red line を意味する．\n",
    "plt.plot(xs, 2 * ys, 'g:') # plot using green dot line\n",
    "plt.plot(xs, 3 * ys, 'b.') # plot using blue dots"
   ]
  },
  {
   "cell_type": "markdown",
   "metadata": {
    "colab_type": "text",
    "id": "k7dmqToD0jME"
   },
   "source": [
    "# プログラム例による理解度の確認\n",
    "\n",
    "ここまで学習してきた内容を用いて，次の課題をやってみよう．\n",
    "\n",
    "<font color=\"red\">\n",
    "（TODO）$y=x^3$の概形をグラフに出力するプログラムを書け．ただし，$x$の範囲は[-5, 5]とし，刻みは0.2とする．\n",
    "</font>\n",
    "\n",
    "> わからない場合のヒント\n",
    ">\n",
    "> 1. $y=x^3$を計算する関数`f`を定義する．\n",
    "> 2. $x$の点列をnumpy配列`xs`で定義する．\n",
    "> 3. $y$の点列を，要素が全てゼロのnumpy配列`ys`として定義する．\n",
    "> 4. `ys[i]`(`i`はインデックス）に，`f(xs[i])`の返り値を代入する．\n",
    "> 5. 4を全ての`i`で処理するようfor文に入れる．\n",
    "> 6. `xs`, `ys`をplotする\n",
    "\n",
    "作成できたらTAに確認してもらい，OKをもらうこと．"
   ]
  },
  {
   "cell_type": "code",
   "execution_count": 36,
   "metadata": {},
   "outputs": [
    {
     "data": {
      "text/plain": [
       "[<matplotlib.lines.Line2D at 0x7feef06a6fd0>]"
      ]
     },
     "execution_count": 36,
     "metadata": {},
     "output_type": "execute_result"
    },
    {
     "data": {
      "image/png": "[encoded data removed]",
      "text/plain": [
       "<Figure size 432x288 with 1 Axes>"
      ]
     },
     "metadata": {
      "needs_background": "light"
     },
     "output_type": "display_data"
    }
   ],
   "source": [
    "# 解答例1，関数を定義して，逐次代入する方法（レポート課題ではこちらの方法を基にします）\n",
    "\n",
    "def f(x): # 入力xに対して，x^3を計算する関数\n",
    "  return x ** 3\n",
    "\n",
    "xs = np.arange(start=-5, stop=5.2, step=0.2) # np.arangeでは最終値が含まれないので注意すること\n",
    "ys = np.zeros(len(xs))\n",
    "for i in range(len(xs)):\n",
    "  ys[i] = f(xs[i])\n",
    "\n",
    "plt.plot(xs, ys, 'b.')"
   ]
  },
  {
   "cell_type": "code",
   "execution_count": 37,
   "metadata": {
    "colab": {
     "base_uri": "https://localhost:8080/",
     "height": 282
    },
    "colab_type": "code",
    "id": "y97Yv__M1I62",
    "outputId": "dbcbaff0-abb3-4027-a0bb-4650967c6f44"
   },
   "outputs": [
    {
     "data": {
      "text/plain": [
       "[<matplotlib.lines.Line2D at 0x7feef067d850>]"
      ]
     },
     "execution_count": 37,
     "metadata": {},
     "output_type": "execute_result"
    },
    {
     "data": {
      "image/png": "[encoded data removed]",
      "text/plain": [
       "<Figure size 432x288 with 1 Axes>"
      ]
     },
     "metadata": {
      "needs_background": "light"
     },
     "output_type": "display_data"
    }
   ],
   "source": [
    "# 解答例2, numpyを用いて求める方法\n",
    "\n",
    "xs = np.arange(start=-5, stop=5.2, step=0.2)\n",
    "ys = xs ** 3\n",
    "\n",
    "plt.plot(xs, ys, 'b.') # '-r'はオプションで，plot xs and ys using red line を意味する．"
   ]
  },
  {
   "cell_type": "markdown",
   "metadata": {
    "colab_type": "text",
    "id": "p1I9sotVNbbx"
   },
   "source": [
    "# ここまでのまとめ\n",
    "\n",
    "このノートブックでは，PythonとColabの基本的な使い方として，四則演算，関数，for文，plotを学んだ．\n",
    "\n",
    "これらは本実験をこなすための最低限の内容であり，機能のごく一部にしかすぎない．詳細は入門書等を参照すること．\n",
    "\n",
    "このノートブックの内容を一通り理解したら，[実験のTopページ](https://github.com/yyamnk/numerical-methods-py3/blob/master/uu_experiment.md) に戻り，次のノートブックに進むこと．"
   ]
  }
 ],
 "metadata": {
  "colab": {
   "collapsed_sections": [],
   "name": "exp_python1.ipynb",
   "provenance": []
  },
  "kernelspec": {
   "display_name": "Python 3",
   "language": "python",
   "name": "python3"
  },
  "language_info": {
   "codemirror_mode": {
    "name": "ipython",
    "version": 3
   },
   "file_extension": ".py",
   "mimetype": "text/x-python",
   "name": "python",
   "nbconvert_exporter": "python",
   "pygments_lexer": "ipython3",
   "version": "3.8.5"
  }
 },
 "nbformat": 4,
 "nbformat_minor": 1
}
