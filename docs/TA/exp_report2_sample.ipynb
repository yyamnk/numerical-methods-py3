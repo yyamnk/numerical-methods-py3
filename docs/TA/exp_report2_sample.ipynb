{
 "cells": [
  {
   "cell_type": "markdown",
   "metadata": {},
   "source": [
    "## 注意\n",
    "\n",
    "- 課題に着手する前に，このnotebookをGoogle Driveに保存してください．\n",
    "- 方法は[第1週の学習用notebook](https://colab.research.google.com/github/yyamnk/numerical-methods-py3/blob/master/exp_python1.ipynb)を参照すること"
   ]
  },
  {
   "cell_type": "markdown",
   "metadata": {},
   "source": [
    "# 第2週の課題：物体投げ上げのシミュレーション"
   ]
  },
  {
   "cell_type": "markdown",
   "metadata": {},
   "source": [
    "次の質点の運動について，運動方程式の解を求め，Pythonでplotせよ．\n",
    "\n",
    "- 高さ$H$[m]のビルから，質量$m$[kg]の物体を水平線から$\\theta$[rad]だけ上方に初速$v_o$[m/s]で投げ出す．\n",
    "- 質点の高さを$y$[m], ビルからの距離を$x$[m]とする．\n",
    "- 重力加速度を$g$ [m/s^2]とする．"
   ]
  },
  {
   "cell_type": "markdown",
   "metadata": {},
   "source": [
    "## 手順1\n",
    "\n",
    "$x$方向と$y$方向について，運動方程式の解を求めよ．"
   ]
  },
  {
   "cell_type": "markdown",
   "metadata": {},
   "source": [
    "$y$について考えると，\n",
    "$$\n",
    "\\frac{d y(t)}{dt} = \\int -g \\ dt = -gt + C_{y1}, \\quad C_{y1} = v_0 \\sin(\\theta) \\\\\n",
    "y(t) = \\int( -gt + C_{y1} )\\ dt = -\\frac{1}{2}gt^2 + C_{y1}t + C_{y2}, \\quad C_{y2} = H\n",
    "$$\n",
    "よって，$y$方向の運動方程式の解は，\n",
    "$$\n",
    "y(t) = -\\frac{1}{2}gt^2 + v_0 t \\sin(\\theta) + H\n",
    "\\tag{1}\n",
    "$$\n",
    "\n",
    "次に，$x$について考えると，\n",
    "$$\n",
    "\\frac{d x(t)}{dt} = \\int 0 \\ dt = C_{x1}, \\quad C_{x1} = v_0 \\cos(\\theta) \\\\\n",
    "x(t) = \\int C_{x1} \\ dt = C_{x1} t + C_{x2}, \\quad C_{x2} = 0\n",
    "$$\n",
    "よって，$x$方向の運動方程式の解は，\n",
    "$$\n",
    "x(t) = v_0 t \\cos(\\theta)\n",
    "\\tag{2}\n",
    "$$"
   ]
  },
  {
   "cell_type": "markdown",
   "metadata": {},
   "source": [
    "## 手順2\n",
    "\n",
    "前のnotebookで作成した`get_xy`を参考に，求めた運動方程式の解を計算する関数`get_xy45`を作成せよ．\n",
    "\n",
    "なお，Pythonでは，\n",
    "- $\\cos$は`np.cos()`\n",
    "- $\\sin$は`np.sin()`\n",
    "- $\\pi$は`np.pi`\n",
    "\n",
    "で計算できる．"
   ]
  },
  {
   "cell_type": "code",
   "execution_count": 22,
   "metadata": {},
   "outputs": [],
   "source": [
    "import numpy as np\n",
    "from matplotlib import pyplot as plt"
   ]
  },
  {
   "cell_type": "code",
   "execution_count": 48,
   "metadata": {},
   "outputs": [],
   "source": [
    "def get_xy45(t, H, v0, g, theta):\n",
    "    y = -g * t**2 / 2 + v0 * t * np.sin(theta) + H\n",
    "    x = v0 * t * np.cos(theta)\n",
    "    return x,y"
   ]
  },
  {
   "cell_type": "markdown",
   "metadata": {},
   "source": [
    "## 手順3\n",
    "\n",
    "作成した`get_xy45`を用いて質点の位置を求め，グラフにplotせよ．\n",
    "ただし．横軸を$x$，縦軸を$y$とし，その他の条件は次のとおりとする．\n",
    "- plotする時刻$t$の範囲と刻み：0 [s] から10 [s]まで 0.1[s]刻み\n",
    "- $H = 333$ [m]\n",
    "- $g = 30$ [m/s^2]\n",
    "- $v_0 = 5$ [m/s]\n",
    "- $\\theta = \\pi/4$ [rad]"
   ]
  },
  {
   "cell_type": "code",
   "execution_count": 59,
   "metadata": {},
   "outputs": [],
   "source": [
    "# H = 333\n",
    "H = 0\n",
    "v0 = 30\n",
    "g = 9.8\n",
    "theta = np.pi / 4\n",
    "\n",
    "ts = np.arange(start=0, stop=10, step=0.1)\n",
    "xs = np.zeros(len(ts))\n",
    "ys = np.zeros(len(ts))\n",
    "\n",
    "for i in range(0, len(ts)):\n",
    "    t = ts[i]\n",
    "    xs[i], ys[i] = get_xy45(t, H, v0, g, theta)"
   ]
  },
  {
   "cell_type": "code",
   "execution_count": 66,
   "metadata": {},
   "outputs": [
    {
     "data": {
      "text/plain": [
       "Text(0, 0.5, 'y [m]')"
      ]
     },
     "execution_count": 66,
     "metadata": {},
     "output_type": "execute_result"
    },
    {
     "data": {
      "image/png": "[encoded data removed]",
      "text/plain": [
       "<Figure size 432x288 with 1 Axes>"
      ]
     },
     "metadata": {
      "needs_background": "light"
     },
     "output_type": "display_data"
    }
   ],
   "source": [
    "plt.plot(xs, ys, '.')\n",
    "plt.xlabel('x [m]')\n",
    "plt.ylabel('y [m]')"
   ]
  },
  {
   "cell_type": "code",
   "execution_count": 67,
   "metadata": {},
   "outputs": [
    {
     "name": "stderr",
     "output_type": "stream",
     "text": [
      "<ipython-input-67-118d90be4ccf>:5: MatplotlibDeprecationWarning: Adding an axes using the same arguments as a previous axes currently reuses the earlier instance.  In a future version, a new instance will always be created and returned.  Meanwhile, this warning can be suppressed, and the future behavior ensured, by passing a unique label to each axes instance.\n",
      "  plt.axes().set_aspect('equal') # グラフのアスペクト比を揃える\n"
     ]
    },
    {
     "data": {
      "image/png": "[encoded data removed]",
      "text/plain": [
       "<Figure size 432x288 with 1 Axes>"
      ]
     },
     "metadata": {
      "needs_background": "light"
     },
     "output_type": "display_data"
    }
   ],
   "source": [
    "# グラフの縦横比を合わせる場合\n",
    "plt.plot(xs, ys, '.')\n",
    "plt.xlabel('x [m]')\n",
    "plt.ylabel('y [m]')\n",
    "plt.axes().set_aspect('equal') # グラフのアスペクト比を揃える"
   ]
  },
  {
   "cell_type": "markdown",
   "metadata": {},
   "source": [
    "# 手順4\n",
    "\n",
    "$\\theta=\\pi / 2$[rad]として，同様にシミュレーションせよ．また，その結果が妥当であるかを考察せよ．"
   ]
  },
  {
   "cell_type": "code",
   "execution_count": 70,
   "metadata": {},
   "outputs": [],
   "source": [
    "H = 333\n",
    "v0 = 30\n",
    "g = 9.8\n",
    "theta = np.pi / 2\n",
    "\n",
    "ts = np.arange(start=0, stop=10, step=0.1)\n",
    "xs = np.zeros(len(ts))\n",
    "ys = np.zeros(len(ts))\n",
    "\n",
    "for i in range(0, len(ts)):\n",
    "    t = ts[i]\n",
    "    xs[i], ys[i] = get_xy45(t, H, v0, g, theta)"
   ]
  },
  {
   "cell_type": "code",
   "execution_count": 71,
   "metadata": {},
   "outputs": [
    {
     "data": {
      "text/plain": [
       "Text(0, 0.5, 'y [m]')"
      ]
     },
     "execution_count": 71,
     "metadata": {},
     "output_type": "execute_result"
    },
    {
     "data": {
      "image/png": "[encoded data removed]",
      "text/plain": [
       "<Figure size 432x288 with 1 Axes>"
      ]
     },
     "metadata": {
      "needs_background": "light"
     },
     "output_type": "display_data"
    }
   ],
   "source": [
    "plt.plot(xs, ys, '.')\n",
    "plt.xlabel('x [m]')\n",
    "plt.ylabel('y [m]')"
   ]
  },
  {
   "cell_type": "markdown",
   "metadata": {},
   "source": [
    "一見，斜めに物体が飛んでいるように見えるが，$x$方向の変位は極めて微小である．これは，`np.pi / 2`の数値計算誤差によるもの．"
   ]
  },
  {
   "cell_type": "markdown",
   "metadata": {},
   "source": [
    "# 手順4\n",
    "\n",
    "この運動において，質点は$y=0$[m]で床に衝突し，弾性係数0.9で跳ね返るものとする．\n",
    "この質点の運動は，これまで学習した内容でシミュレーションできるか？できる場合は，それを実装せよ．できない場合は，その理由を考えよ．"
   ]
  },
  {
   "cell_type": "markdown",
   "metadata": {},
   "source": [
    "おそらくできない．\n",
    "\n",
    "運動方程式の解を求める方法では，初期値と積分定数を用いている．\n",
    "弾性衝突の場合は，それら初期値と積分定数を，衝突毎に算出する必要があり，これまでの計算では難しい（やろうと思えばできそうだけど，想定していない）"
   ]
  }
 ],
 "metadata": {
  "kernelspec": {
   "display_name": "Python 3",
   "language": "python",
   "name": "python3"
  },
  "language_info": {
   "codemirror_mode": {
    "name": "ipython",
    "version": 3
   },
   "file_extension": ".py",
   "mimetype": "text/x-python",
   "name": "python",
   "nbconvert_exporter": "python",
   "pygments_lexer": "ipython3",
   "version": "3.8.5"
  }
 },
 "nbformat": 4,
 "nbformat_minor": 4
}
