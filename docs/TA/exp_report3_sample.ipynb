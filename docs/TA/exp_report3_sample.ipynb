{
 "cells": [
  {
   "cell_type": "markdown",
   "metadata": {
    "colab_type": "text",
    "id": "B6SEtGKpcxQ6"
   },
   "source": [
    "# 機械システム工学実験　テーマI　レポート課題"
   ]
  },
  {
   "cell_type": "markdown",
   "metadata": {
    "colab_type": "text",
    "id": "8ByXf8Mf70J8"
   },
   "source": [
    "<font color=\"red\">\n",
    "（TODO） 以下の伏せ字（X）を各自で変更せよ．変更したらこの赤字の記述を削除せよ．\n",
    "</font>\n",
    "\n",
    "- 実験日（第1週）: 202X年X月X日\n",
    "- レポート提出日: 202X年X月X日\n",
    "- 実験班: X班\n",
    "- 学籍番号: XXXXXXX\n",
    "- 氏名: XXX XXX"
   ]
  },
  {
   "cell_type": "markdown",
   "metadata": {},
   "source": [
    "## 注意\n",
    "\n",
    "- このnotebookを実行する前に，このnotebookをGoogle Driveに保存してください．\n",
    "- 方法は[第1週の学習用notebook](https://colab.research.google.com/github/yyamnk/numerical-methods-py3/blob/master/exp_python1.ipynb)を参照すること"
   ]
  },
  {
   "cell_type": "markdown",
   "metadata": {
    "colab_type": "text",
    "id": "KKj9dopomDDT"
   },
   "source": [
    "## 課題1\n",
    "\n",
    "![Fig: A Damped Mass-Spring System](https://docs.google.com/uc?export=download&id=1SFmcz7mazpg0EOf495VloC_wlQ5X3Md8)\n",
    "\n",
    "図に示す台車とバネ，ダンパの自由振動系の運動方程式を導出して，式（1）の$f(x(t), v(t))$を求めよ．ただし，台車の質量を$m$, バネ定数を$k$, 粘性係数を$c$，台車の位置$x(t)=0$をバネの自然長とすること．空気抵抗や床との摩擦はゼロとする．\n",
    "\n",
    "$$\n",
    "\\begin{cases}\n",
    " \\frac{dx(t)}{dt} = v(t), \\\\\n",
    " \\frac{dv(t)}{dt} = Q(x(t), v(t))\n",
    "\\end{cases}\n",
    "\\tag{1}\n",
    "$$\n",
    "\n",
    "解答は．次の解答用セルに記入すること．数式の入力方法は [Jupyter Notebook で数式を美しく書く](https://qiita.com/namoshika/items/63db972bfd1030f8264a) などを参考にせよ．"
   ]
  },
  {
   "cell_type": "markdown",
   "metadata": {
    "colab_type": "text",
    "id": "18vQXgfhmcc4"
   },
   "source": [
    "【解答用セル1】\n",
    "\n",
    "$$\n",
    "Q(x(t), v(t)) = -\\frac{k}{m} x(t) - \\frac{c}{m} v(t)\n",
    "$$"
   ]
  },
  {
   "cell_type": "markdown",
   "metadata": {
    "colab_type": "text",
    "id": "WcmBDCWQszXd"
   },
   "source": [
    "## 課題2\n",
    "\n",
    "オイラー法を用いて，課題1で導出した運動方程式の数値解を求めるプログラムを【解答用セル2-1】に作成せよ．\n",
    "また，その実行結果を次の2つのグラフで表示せよ．\n",
    "\n",
    "- グラフ1: 横軸を時刻$t_i$，縦軸を質点の位置$x_i$\n",
    "    - このグラフを出力するコードは【解答用セル2-2】に入力すること\n",
    "    - x軸, y軸のラベルを書くこと\n",
    "- グラフ2: 横軸を時刻$t_i$，縦軸を質点の速度$v_i$\n",
    "    - このグラフを出力するコードは【解答用セル2-3】に入力すること\n",
    "    - x軸，y軸のラベルを書くこと\n",
    "\n",
    "ただし，条件は次のとおりとする．\n",
    "\n",
    "- 初期条件:\n",
    "    - 質点の初期位置: $x(0) = 1.0$\n",
    "    - 質点の初期速度: $v(0) = 0$\n",
    "- 系のパラメータ：\n",
    "    - 質量$m$，バネ定数$k$，粘性係数$c$は適当な正の数とせよ\n",
    "- plotする時刻$t$の範囲と刻み:\n",
    "    - 0 [s] から10 [s]まで 0.1[s]刻み\n",
    "\n",
    "### ヒント\n",
    " \n",
    "- `exp_python3.ipynb`で学習したプログラムと，ここで求められているプログラムでは，非常によく似ている．\n",
    "    - 対象とする系の自由度は，\n",
    "        - `exp_python3.ipynb`: 2つ（$x$と$y$）\n",
    "        - この課題では: 1つ（$x$のみ）\n",
    "    - $Q$が異なる．\n",
    "- 今回のレポートで必要な$Q$は課題1で導出済みのはずである．"
   ]
  },
  {
   "cell_type": "code",
   "execution_count": 10,
   "metadata": {
    "colab": {},
    "colab_type": "code",
    "id": "PPp0ZNZ7DYhy"
   },
   "outputs": [],
   "source": [
    "# 必要なライブラリのインポート(このセルは削除しないこと)\n",
    "import numpy as np\n",
    "from matplotlib import pyplot as plt"
   ]
  },
  {
   "cell_type": "code",
   "execution_count": 14,
   "metadata": {
    "colab": {},
    "colab_type": "code",
    "id": "P9Wxr47ttMEn"
   },
   "outputs": [],
   "source": [
    "# 【解答用セル2-1】\n",
    "\n",
    "# 計算条件を変数として定義\n",
    "H = 333\n",
    "g = 9.8\n",
    "x0 = 1\n",
    "v0 = 0\n",
    "h = 0.1 # 刻み時間\n",
    "t_start = 0 # start time\n",
    "t_end = 10 # end time\n",
    "\n",
    "# モデルパラメータの定義\n",
    "m = 1\n",
    "k = 1\n",
    "c = 1\n",
    "\n",
    "def Q(x,v):\n",
    "    return -(k/m)*x - (c/m)*v\n",
    "\n",
    "def Euler(Q):\n",
    "    # 結果保存用の配列定義\n",
    "    ts = np.arange(start=t_start, stop=t_end, step=h) # tの時系列\n",
    "    xs = np.zeros(len(ts)) # xの時系列\n",
    "    vxs = np.zeros(len(ts)) # xの速度の時系列\n",
    "    # 初期値の代入\n",
    "    xs[0] = x0 # x初期位置\n",
    "    vxs[0] = v0 # vx初期速度 \n",
    "    for i in range(1, len(ts)): # 初期値から最終値までループ\n",
    "        # xについて\n",
    "        vxs[i] = vxs[i-1] + Q(xs[i-1], vxs[i-1]) * h # 式(4)\n",
    "        xs[i] = xs[i-1] + vxs[i] * h # 式(5)\n",
    "    return ts, vxs, xs"
   ]
  },
  {
   "cell_type": "code",
   "execution_count": 16,
   "metadata": {
    "colab": {},
    "colab_type": "code",
    "id": "c5nNnBbHyeXb"
   },
   "outputs": [
    {
     "data": {
      "text/plain": [
       "Text(0, 0.5, 'x [m]')"
      ]
     },
     "execution_count": 16,
     "metadata": {},
     "output_type": "execute_result"
    },
    {
     "data": {
      "image/png": "[encoded data removed]",
      "text/plain": [
       "<Figure size 432x288 with 1 Axes>"
      ]
     },
     "metadata": {
      "needs_background": "light"
     },
     "output_type": "display_data"
    }
   ],
   "source": [
    "# 【解答用セル2-2】\n",
    "ts, vxs, xs = Euler(Q)\n",
    "\n",
    "plt.plot(ts, xs, '.')\n",
    "plt.xlabel('t [s]')\n",
    "plt.ylabel('x [m]')"
   ]
  },
  {
   "cell_type": "code",
   "execution_count": 18,
   "metadata": {
    "colab": {},
    "colab_type": "code",
    "id": "SvUguHWcy9l6"
   },
   "outputs": [
    {
     "data": {
      "text/plain": [
       "Text(0, 0.5, 'v [m/s]')"
      ]
     },
     "execution_count": 18,
     "metadata": {},
     "output_type": "execute_result"
    },
    {
     "data": {
      "image/png": "[encoded data removed]",
      "text/plain": [
       "<Figure size 432x288 with 1 Axes>"
      ]
     },
     "metadata": {
      "needs_background": "light"
     },
     "output_type": "display_data"
    }
   ],
   "source": [
    "# 【解答用セル2-3】\n",
    "plt.plot(ts, vxs, '.')\n",
    "plt.xlabel('t [s]')\n",
    "plt.ylabel('v [m/s]')"
   ]
  },
  {
   "cell_type": "markdown",
   "metadata": {
    "colab_type": "text",
    "id": "q4fXQYp_pDIX"
   },
   "source": [
    "## 課題3\n",
    "\n",
    "グラフ1とグラフ2の結果を読み解き，シミュレーションされた台車の挙動を説明せよ．解答は【解答用セル3】に記入すること．\n",
    "\n",
    "> ヒント\n",
    ">\n",
    "> 質点の初期位置，初期速度や運動の特徴的な点に着目し，質点がどのように動いたのかを読者にわかるように説明すること．\n",
    "> また，この系は自由振動系であり，その挙動は[機械力学の教科書](http://edu.katzlab.jp/lec/mdyn/files/mdyn2017text.pdf)のp.123，表13.1のとおりに分類できる．\n",
    "> その分類と，今回の結果を関連付け，「〇〇であるから〇〇振動であることがわかる」のように説明すること．"
   ]
  },
  {
   "cell_type": "markdown",
   "metadata": {
    "colab_type": "text",
    "id": "9rwWRuW3P5BZ"
   },
   "source": [
    "【解答用セル3】\n",
    "\n"
   ]
  },
  {
   "cell_type": "markdown",
   "metadata": {
    "colab_type": "text",
    "id": "OG9MNsChQDsT"
   },
   "source": [
    "## 課題4\n",
    "\n",
    "【解答用セル4-1】に，数値解析で用いたパラメータ（$m$, $k$, $c$）から系の固有値を算出するPythonプログラムを作成し，算出結果を示せ．\n",
    "\n",
    "【解答用セル4-2】に，算出結果と課題3のシミュレーション結果を比較して考察せよ．\n",
    "\n",
    "> ヒント\n",
    ">\n",
    "> 自由振動系では，その固有値から運動が理論的に分類できる（忘れた場合は[機械力学の教科書](http://edu.katzlab.jp/lec/mdyn/files/mdyn2017text.pdf)のp.123あたりを読むこと）．\n",
    "> 理論的な分類と比較したとき，今回のシミュレーション結果は妥当といえるかを考察すること．"
   ]
  },
  {
   "cell_type": "code",
   "execution_count": 5,
   "metadata": {
    "colab": {},
    "colab_type": "code",
    "id": "s31OCs34Rdx9"
   },
   "outputs": [],
   "source": [
    "# 【解答用セル4-1】\n"
   ]
  },
  {
   "cell_type": "markdown",
   "metadata": {
    "colab": {},
    "colab_type": "code",
    "id": "s31OCs34Rdx9"
   },
   "source": [
    "【解答用セル4-2】\n",
    "\n"
   ]
  },
  {
   "cell_type": "markdown",
   "metadata": {},
   "source": [
    "## 課題5\n",
    "\n",
    "この自由振動系では，モデルのパラメータにより6つの振る舞いが生じる．\n",
    "そろで，課題3で示された振る舞いを除いた5つの振る舞いを，モデルのパラメータを工夫してシミュレーションし，以下に示せ．"
   ]
  },
  {
   "cell_type": "code",
   "execution_count": 6,
   "metadata": {
    "colab": {},
    "colab_type": "code",
    "id": "s31OCs34Rdx9"
   },
   "outputs": [],
   "source": [
    "# 【解答用セル5，必要に応じてセルを追加してよい．】\n"
   ]
  }
 ],
 "metadata": {
  "colab": {
   "collapsed_sections": [],
   "name": "exp_python_report.ipynb",
   "provenance": []
  },
  "kernelspec": {
   "display_name": "Python 3",
   "language": "python",
   "name": "python3"
  },
  "language_info": {
   "codemirror_mode": {
    "name": "ipython",
    "version": 3
   },
   "file_extension": ".py",
   "mimetype": "text/x-python",
   "name": "python",
   "nbconvert_exporter": "python",
   "pygments_lexer": "ipython3",
   "version": "3.8.5"
  }
 },
 "nbformat": 4,
 "nbformat_minor": 1
}
