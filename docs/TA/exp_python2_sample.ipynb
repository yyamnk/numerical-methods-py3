{
 "cells": [
  {
   "cell_type": "markdown",
   "metadata": {},
   "source": [
    "## 注意\n",
    "\n",
    "- このnotebookを実行する前に，このnotebookをGoogle Driveに保存してください．\n",
    "- 方法は[第1週の学習用notebook](https://colab.research.google.com/github/yyamnk/numerical-methods-py3/blob/master/exp_python1.ipynb)を参照すること"
   ]
  },
  {
   "cell_type": "markdown",
   "metadata": {},
   "source": [
    "# 運動方程式の解を用いた質点の運動解析\n",
    "\n",
    "このNotebookでは，簡単な質点の運動をシミュレーションしてみよう．\n",
    "\n",
    "まず，次の運動を考える．\n",
    "\n",
    "- 高さ$H$[m]のビルから，質量$m$[kg]の物体を水平方向に初速$v_o$[m/s]で投げ出す．\n",
    "- 質点の高さを$y$[m], ビルからの距離を$x$[m]とする．\n",
    "\n",
    "このときの質点の運動をPythonでシミュレーションしてみよう．"
   ]
  },
  {
   "cell_type": "markdown",
   "metadata": {},
   "source": [
    "## 運動方程式の解を求める"
   ]
  },
  {
   "cell_type": "markdown",
   "metadata": {},
   "source": [
    "シミュレーションの方法は複数あるが，まずは運動方程式の解を求めて，これをplotしてみよう．"
   ]
  },
  {
   "cell_type": "markdown",
   "metadata": {},
   "source": [
    "### $y$方向の運動方程式\n",
    "\n",
    "まず，$y$方向の運動方程式を考える．\n",
    "質点には，重力加速度$g$が働くため，\n",
    "$$\n",
    "m \\frac{d^2 y(t)}{dt^2} = F = mg \\Leftrightarrow \\frac{d^2 y(t)}{dt^2} = -g\n",
    "$$\n",
    "となる．これを積分すると，\n",
    "$$\n",
    "\\frac{d y(t)}{dt} = \\int - g \\ dt = -gt + C_{y1}\n",
    "$$\n",
    "になる．ただし，$C_{y1}$は積分定数であり，$y$方向の初速度より$C_{y1} = 0$となる．\n",
    "さらに積分すると，\n",
    "$$\n",
    "y(t) = \\int -gt \\ dt = -\\frac{1}{2}gt^2 + C_{y2}\n",
    "$$\n",
    "になる．\n",
    "ただし，$C_{y2}$は積分定数で，$y$方向の初期位置より$C_{y2} = H$である．\n",
    "\n",
    "よって，$y$方向の運動方程式の解は，\n",
    "$$\n",
    "y(t) = -\\frac{1}{2}gt^2 + H\n",
    "\\tag{1}\n",
    "$$\n",
    "となる．\n",
    "\n",
    "### $x$方向の運動方程式\n",
    "\n",
    "次に，$x$方向を考えると，外力がゼロであるから，\n",
    "$$\n",
    "m \\frac{d^2 x(t)}{dt^2} = 0\n",
    "$$\n",
    "となる．これを積分して，\n",
    "$$\n",
    "\\frac{d x(t)}{dt} = \\int 0 \\ dt = C_{x1}\n",
    "$$\n",
    "になる．$C_{x1}$は積分定数であり，$x$方向の初速度より$C_{x1} = v_0$となる．\n",
    "これを積分して，\n",
    "$$\n",
    "x(t) = \\int v_0 \\ dt = v_0 t + C_{x2}\n",
    "$$\n",
    "$C_{x2}$は積分定数であり，$x$方向の初速度より$C_{x2} = 0$である．\n",
    "\n",
    "よって，$x$方向の運動方程式の解は，\n",
    "$$\n",
    "x(t) = v_0 t\n",
    "\\tag{2}\n",
    "$$\n",
    "となる．"
   ]
  },
  {
   "cell_type": "markdown",
   "metadata": {},
   "source": [
    "## 運動方程式の解をplotする"
   ]
  },
  {
   "cell_type": "markdown",
   "metadata": {},
   "source": [
    "上記の式(1)(2)をPythonの関数で実装すると，次のようになる．"
   ]
  },
  {
   "cell_type": "code",
   "execution_count": 1,
   "metadata": {},
   "outputs": [],
   "source": [
    "def get_xy(t, H, v0, g):\n",
    "    y = -g * t**2 /2 + H\n",
    "    x = v0 * t\n",
    "    return x,y"
   ]
  },
  {
   "cell_type": "markdown",
   "metadata": {},
   "source": [
    "この関数を使って，質点の運動をplotしてみよう．\n",
    "条件は次のとおり\n",
    "- plotする時刻$t$の範囲と刻み：0 [s] から10 [s]まで 0.1[s]刻み\n",
    "- $H = 333$ [m]\n",
    "- $g = 9.8$ [m/s^2]\n",
    "- $v_0 = 30$ [m/s]"
   ]
  },
  {
   "cell_type": "markdown",
   "metadata": {},
   "source": [
    "<font color=\"red\">\n",
    "（TODO）実装した関数を使って，t = 0[s]と0.1[s]の$x$[m]と$y$[m]を求めよ\n",
    "</font>"
   ]
  },
  {
   "cell_type": "code",
   "execution_count": 2,
   "metadata": {},
   "outputs": [
    {
     "name": "stdout",
     "output_type": "stream",
     "text": [
      "0\n",
      "333.0\n"
     ]
    }
   ],
   "source": [
    "H = 333\n",
    "v0 = 30\n",
    "g = 9.8\n",
    "\n",
    "x0, y0 = get_xy(0, H, v0, g)\n",
    "print(x0)\n",
    "print(y0)"
   ]
  },
  {
   "cell_type": "code",
   "execution_count": 3,
   "metadata": {},
   "outputs": [
    {
     "name": "stdout",
     "output_type": "stream",
     "text": [
      "3.0\n",
      "332.951\n"
     ]
    }
   ],
   "source": [
    "x01, y01 = get_xy(0.1, H, v0, g)\n",
    "print(x01)\n",
    "print(y01)"
   ]
  },
  {
   "cell_type": "markdown",
   "metadata": {},
   "source": [
    "<font color=\"red\">\n",
    "（TODO）numpy配列とfor文を使って，離散時刻の配列であるts, 各離散時刻の$x(t)$[m]と$y(t)$[m]を表すxs, ysを計算せよ．\n",
    "</font>"
   ]
  },
  {
   "cell_type": "code",
   "execution_count": 4,
   "metadata": {},
   "outputs": [],
   "source": [
    "import numpy as np\n",
    "from matplotlib import pyplot as plt"
   ]
  },
  {
   "cell_type": "code",
   "execution_count": 5,
   "metadata": {},
   "outputs": [],
   "source": [
    "ts = np.arange(start=0, stop=10, step=0.1)\n",
    "xs = np.zeros(len(ts))\n",
    "ys = np.zeros(len(ts))\n",
    "\n",
    "for i in range(0, len(ts)):\n",
    "    t = ts[i]\n",
    "    xs[i], ys[i] = get_xy(t, H, v0, g)"
   ]
  },
  {
   "cell_type": "code",
   "execution_count": 6,
   "metadata": {},
   "outputs": [
    {
     "data": {
      "text/plain": [
       "array([  0.,   3.,   6.,   9.,  12.,  15.,  18.,  21.,  24.,  27.,  30.,\n",
       "        33.,  36.,  39.,  42.,  45.,  48.,  51.,  54.,  57.,  60.,  63.,\n",
       "        66.,  69.,  72.,  75.,  78.,  81.,  84.,  87.,  90.,  93.,  96.,\n",
       "        99., 102., 105., 108., 111., 114., 117., 120., 123., 126., 129.,\n",
       "       132., 135., 138., 141., 144., 147., 150., 153., 156., 159., 162.,\n",
       "       165., 168., 171., 174., 177., 180., 183., 186., 189., 192., 195.,\n",
       "       198., 201., 204., 207., 210., 213., 216., 219., 222., 225., 228.,\n",
       "       231., 234., 237., 240., 243., 246., 249., 252., 255., 258., 261.,\n",
       "       264., 267., 270., 273., 276., 279., 282., 285., 288., 291., 294.,\n",
       "       297.])"
      ]
     },
     "execution_count": 6,
     "metadata": {},
     "output_type": "execute_result"
    }
   ],
   "source": [
    "xs"
   ]
  },
  {
   "cell_type": "code",
   "execution_count": 7,
   "metadata": {},
   "outputs": [
    {
     "data": {
      "text/plain": [
       "array([ 333.   ,  332.951,  332.804,  332.559,  332.216,  331.775,\n",
       "        331.236,  330.599,  329.864,  329.031,  328.1  ,  327.071,\n",
       "        325.944,  324.719,  323.396,  321.975,  320.456,  318.839,\n",
       "        317.124,  315.311,  313.4  ,  311.391,  309.284,  307.079,\n",
       "        304.776,  302.375,  299.876,  297.279,  294.584,  291.791,\n",
       "        288.9  ,  285.911,  282.824,  279.639,  276.356,  272.975,\n",
       "        269.496,  265.919,  262.244,  258.471,  254.6  ,  250.631,\n",
       "        246.564,  242.399,  238.136,  233.775,  229.316,  224.759,\n",
       "        220.104,  215.351,  210.5  ,  205.551,  200.504,  195.359,\n",
       "        190.116,  184.775,  179.336,  173.799,  168.164,  162.431,\n",
       "        156.6  ,  150.671,  144.644,  138.519,  132.296,  125.975,\n",
       "        119.556,  113.039,  106.424,   99.711,   92.9  ,   85.991,\n",
       "         78.984,   71.879,   64.676,   57.375,   49.976,   42.479,\n",
       "         34.884,   27.191,   19.4  ,   11.511,    3.524,   -4.561,\n",
       "        -12.744,  -21.025,  -29.404,  -37.881,  -46.456,  -55.129,\n",
       "        -63.9  ,  -72.769,  -81.736,  -90.801,  -99.964, -109.225,\n",
       "       -118.584, -128.041, -137.596, -147.249])"
      ]
     },
     "execution_count": 7,
     "metadata": {},
     "output_type": "execute_result"
    }
   ],
   "source": [
    "ys"
   ]
  },
  {
   "cell_type": "markdown",
   "metadata": {},
   "source": [
    "<font color=\"red\">\n",
    "（TODO）tsを横軸，xsを縦軸とし，質点の水平方向の変位をplotせよ\n",
    "</font>"
   ]
  },
  {
   "cell_type": "code",
   "execution_count": 8,
   "metadata": {},
   "outputs": [
    {
     "data": {
      "text/plain": [
       "Text(0, 0.5, 'x [m]')"
      ]
     },
     "execution_count": 8,
     "metadata": {},
     "output_type": "execute_result"
    },
    {
     "data": {
      "image/png": "[encoded data removed]",
      "text/plain": [
       "<Figure size 432x288 with 1 Axes>"
      ]
     },
     "metadata": {
      "needs_background": "light"
     },
     "output_type": "display_data"
    }
   ],
   "source": [
    "plt.plot(ts, xs)\n",
    "plt.xlabel('t')\n",
    "plt.ylabel('x [m]')"
   ]
  },
  {
   "cell_type": "markdown",
   "metadata": {},
   "source": [
    "<font color=\"red\">\n",
    "（TODO）tsを横軸，ysを縦軸とし，質点の垂直方向の変位をplotせよ\n",
    "</font>"
   ]
  },
  {
   "cell_type": "code",
   "execution_count": 9,
   "metadata": {},
   "outputs": [
    {
     "data": {
      "text/plain": [
       "Text(0, 0.5, 'y [m]')"
      ]
     },
     "execution_count": 9,
     "metadata": {},
     "output_type": "execute_result"
    },
    {
     "data": {
      "image/png": "[encoded data removed]",
      "text/plain": [
       "<Figure size 432x288 with 1 Axes>"
      ]
     },
     "metadata": {
      "needs_background": "light"
     },
     "output_type": "display_data"
    }
   ],
   "source": [
    "plt.plot(ts, ys)\n",
    "plt.xlabel('t')\n",
    "plt.ylabel('y [m]')"
   ]
  },
  {
   "cell_type": "markdown",
   "metadata": {},
   "source": [
    "<font color=\"red\">\n",
    "（TODO）xsを横軸，ysを縦軸とし，質点の運動をplotせよ\n",
    "</font>"
   ]
  },
  {
   "cell_type": "code",
   "execution_count": 10,
   "metadata": {},
   "outputs": [
    {
     "data": {
      "text/plain": [
       "Text(0, 0.5, 'y [m]')"
      ]
     },
     "execution_count": 10,
     "metadata": {},
     "output_type": "execute_result"
    },
    {
     "data": {
      "image/png": "[encoded data removed]",
      "text/plain": [
       "<Figure size 432x288 with 1 Axes>"
      ]
     },
     "metadata": {
      "needs_background": "light"
     },
     "output_type": "display_data"
    }
   ],
   "source": [
    "plt.plot(xs, ys)\n",
    "plt.xlabel('x [m]')\n",
    "plt.ylabel('y [m]')"
   ]
  }
 ],
 "metadata": {
  "kernelspec": {
   "display_name": "Python 3",
   "language": "python",
   "name": "python3"
  },
  "language_info": {
   "codemirror_mode": {
    "name": "ipython",
    "version": 3
   },
   "file_extension": ".py",
   "mimetype": "text/x-python",
   "name": "python",
   "nbconvert_exporter": "python",
   "pygments_lexer": "ipython3",
   "version": "3.8.5"
  }
 },
 "nbformat": 4,
 "nbformat_minor": 4
}
