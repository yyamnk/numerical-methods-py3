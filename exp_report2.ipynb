{
 "cells": [
  {
   "cell_type": "markdown",
   "metadata": {},
   "source": [
    "## 注意\n",
    "\n",
    "- 課題に着手する前に，このnotebookをGoogle Driveに保存してください．\n",
    "- 方法は[第1週の学習用notebook](https://colab.research.google.com/github/yyamnk/numerical-methods-py3/blob/master/exp_python1.ipynb)を参照すること"
   ]
  },
  {
   "cell_type": "markdown",
   "metadata": {},
   "source": [
    "# 第2週の課題：物体投げ上げのシミュレーション"
   ]
  },
  {
   "cell_type": "markdown",
   "metadata": {},
   "source": [
    "次の質点の運動について，運動方程式の解を求め，Pythonでplotせよ．\n",
    "\n",
    "- 高さ$H$[m]のビルから，質量$m$[kg]の物体を水平線から$\\theta$[rad]だけ上方に初速$v_o$[m/s]で投げ出す．\n",
    "- 質点の高さを$y$[m], ビルからの距離を$x$[m]とする．\n",
    "- 重力加速度を$g$ [m/s^2]とする．"
   ]
  },
  {
   "cell_type": "markdown",
   "metadata": {},
   "source": [
    "## 手順1\n",
    "\n",
    "$x$方向と$y$方向について，運動方程式の解を求めよ．"
   ]
  },
  {
   "cell_type": "markdown",
   "metadata": {},
   "source": []
  },
  {
   "cell_type": "markdown",
   "metadata": {},
   "source": [
    "## 手順2\n",
    "\n",
    "前のnotebookで作成した`get_xy`を参考に，求めた運動方程式の解を計算する関数`get_xy45`を作成せよ．\n",
    "\n",
    "なお，Pythonでは，\n",
    "- $\\cos$は`np.cos()`\n",
    "- $\\sin$は`np.sin()`\n",
    "- $\\pi$は`np.pi`\n",
    "\n",
    "で計算できる．"
   ]
  },
  {
   "cell_type": "code",
   "execution_count": 22,
   "metadata": {},
   "outputs": [],
   "source": [
    "import numpy as np"
   ]
  },
  {
   "cell_type": "code",
   "execution_count": 48,
   "metadata": {},
   "outputs": [],
   "source": []
  },
  {
   "cell_type": "markdown",
   "metadata": {},
   "source": [
    "## 手順3\n",
    "\n",
    "作成した`get_xy45`を用いて質点の位置を求め，グラフにplotせよ．\n",
    "ただし．横軸を$x$，縦軸を$y$とし，その他の条件は次のとおりとする．\n",
    "- plotする時刻$t$の範囲と刻み：0 [s] から10 [s]まで 0.1[s]刻み\n",
    "- $H = 333$ [m]\n",
    "- $g = 9.8$ [m/s^2]\n",
    "- $v_0 = 30$ [m/s]\n",
    "- $\\theta = \\pi/4$ [rad]"
   ]
  },
  {
   "cell_type": "code",
   "execution_count": null,
   "metadata": {},
   "outputs": [],
   "source": [
    "from matplotlib import pyplot as plt"
   ]
  },
  {
   "cell_type": "code",
   "execution_count": 59,
   "metadata": {},
   "outputs": [],
   "source": []
  },
  {
   "cell_type": "markdown",
   "metadata": {},
   "source": [
    "# 手順4\n",
    "\n",
    "$\\theta=\\pi / 2$[rad]として，同様にシミュレーションせよ．また，その結果が妥当であるかを考察せよ．"
   ]
  },
  {
   "cell_type": "markdown",
   "metadata": {},
   "source": [
    "# 手順5\n",
    "\n",
    "この運動において，質点は$y=0$[m]で床に衝突し，弾性係数0.9で跳ね返るものとする．\n",
    "この質点の運動は，これまで学習した内容でシミュレーションできるか？できる場合は，それを実装せよ．できない場合は，その理由を考えよ．"
   ]
  }
 ],
 "metadata": {
  "kernelspec": {
   "display_name": "Python 3",
   "language": "python",
   "name": "python3"
  },
  "language_info": {
   "codemirror_mode": {
    "name": "ipython",
    "version": 3
   },
   "file_extension": ".py",
   "mimetype": "text/x-python",
   "name": "python",
   "nbconvert_exporter": "python",
   "pygments_lexer": "ipython3",
   "version": "3.8.5"
  }
 },
 "nbformat": 4,
 "nbformat_minor": 4
}
