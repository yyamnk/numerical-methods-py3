{
 "cells": [
  {
   "cell_type": "markdown",
   "metadata": {},
   "source": [
    "## 注意\n",
    "\n",
    "- このnotebookを実行する前に，このnotebookをGoogle Driveに保存してください．\n",
    "- 方法は[第1週の学習用notebook](https://colab.research.google.com/github/yyamnk/numerical-methods-py3/blob/master/exp_python1.ipynb)を参照すること"
   ]
  },
  {
   "cell_type": "markdown",
   "metadata": {},
   "source": [
    "# 運動方程式の解を用いた質点の運動解析\n",
    "\n",
    "このNotebookでは，簡単な質点の運動をシミュレーションしてみよう．\n",
    "\n",
    "まず，次の運動を考える．\n",
    "\n",
    "- 高さ$H$[m]のビルから，質量$m$[kg]の物体を水平方向に初速$v_o$[m/s]で投げ出す．\n",
    "- 質点の高さを$y$[m], ビルからの距離を$x$[m]とする．\n",
    "\n",
    "このときの質点の運動をPythonでシミュレーションしてみよう．"
   ]
  },
  {
   "cell_type": "markdown",
   "metadata": {},
   "source": [
    "## 運動方程式の解を求める"
   ]
  },
  {
   "cell_type": "markdown",
   "metadata": {},
   "source": [
    "シミュレーションの方法は複数あるが，まずは運動方程式の解を求めて，これをplotしてみよう．"
   ]
  },
  {
   "cell_type": "markdown",
   "metadata": {},
   "source": [
    "### $y$方向の運動方程式\n",
    "\n",
    "まず，$y$方向の運動方程式を考える．\n",
    "質点には，重力加速度$g$が働くため，\n",
    "$$\n",
    "m \\frac{d^2 y(t)}{dt^2} = F = mg \\Leftrightarrow \\frac{d^2 y(t)}{dt^2} = -g\n",
    "$$\n",
    "となる．これを積分すると，\n",
    "$$\n",
    "\\frac{d y(t)}{dt} = \\int - g \\ dt = -gt + C_{y1}\n",
    "$$\n",
    "になる．ただし，$C_{y1}$は積分定数であり，$y$方向の初速度より$C_{y1} = 0$となる．\n",
    "さらに積分すると，\n",
    "$$\n",
    "y(t) = \\int -gt \\ dt = -\\frac{1}{2}gt^2 + C_{y2}\n",
    "$$\n",
    "になる．\n",
    "ただし，$C_{y2}$は積分定数で，$y$方向の初期位置より$C_{y2} = H$である．\n",
    "\n",
    "よって，$y$方向の運動方程式の解は，\n",
    "$$\n",
    "y(t) = -\\frac{1}{2}gt^2 + H\n",
    "\\tag{1}\n",
    "$$\n",
    "となる．\n",
    "\n",
    "### $x$方向の運動方程式\n",
    "\n",
    "次に，$x$方向を考えると，外力がゼロであるから，\n",
    "$$\n",
    "m \\frac{d^2 x(t)}{dt^2} = 0\n",
    "$$\n",
    "となる．これを積分して，\n",
    "$$\n",
    "\\frac{d x(t)}{dt} = \\int 0 \\ dt = C_{x1}\n",
    "$$\n",
    "になる．$C_{x1}$は積分定数であり，$x$方向の初速度より$C_{x1} = v_0$となる．\n",
    "これを積分して，\n",
    "$$\n",
    "x(t) = \\int v_0 \\ dt = v_0 t + C_{x2}\n",
    "$$\n",
    "$C_{x2}$は積分定数であり，$x$の初期位置より$C_{x2} = 0$である．\n",
    "\n",
    "よって，$x$方向の運動方程式の解は，\n",
    "$$\n",
    "x(t) = v_0 t\n",
    "\\tag{2}\n",
    "$$\n",
    "となる．"
   ]
  },
  {
   "cell_type": "markdown",
   "metadata": {},
   "source": [
    "## 運動方程式の解をplotする"
   ]
  },
  {
   "cell_type": "markdown",
   "metadata": {},
   "source": [
    "上記の式(1)(2)をPythonの関数で実装すると，次のようになる．"
   ]
  },
  {
   "cell_type": "code",
   "execution_count": null,
   "metadata": {},
   "outputs": [],
   "source": [
    "def get_xy(t, H, v0, g):\n",
    "    y = -g * t**2 /2 + H\n",
    "    x = v0 * t\n",
    "    return x,y"
   ]
  },
  {
   "cell_type": "markdown",
   "metadata": {},
   "source": [
    "この関数を使って，質点の運動をplotしてみよう．\n",
    "条件は次のとおり\n",
    "- plotする時刻$t$の範囲と刻み：0 [s] から10 [s]まで 0.1[s]刻み\n",
    "- $H = 333$ [m]\n",
    "- $g = 9.8$ [m/s^2]\n",
    "- $v_0 = 30$ [m/s]"
   ]
  },
  {
   "cell_type": "markdown",
   "metadata": {},
   "source": [
    "<font color=\"red\">\n",
    "（TODO）実装した関数を使って，t = 0[s]と0.1[s]の$x$[m]と$y$[m]を求めよ\n",
    "</font>"
   ]
  },
  {
   "cell_type": "code",
   "execution_count": null,
   "metadata": {},
   "outputs": [],
   "source": []
  },
  {
   "cell_type": "markdown",
   "metadata": {},
   "source": [
    "<font color=\"red\">\n",
    "（TODO）numpy配列とfor文を使って，離散時刻の配列であるts, 各離散時刻の$x(t)$[m]と$y(t)$[m]を表すxs, ysを計算せよ．\n",
    "</font>"
   ]
  },
  {
   "cell_type": "code",
   "execution_count": null,
   "metadata": {},
   "outputs": [],
   "source": [
    "import numpy as np"
   ]
  },
  {
   "cell_type": "code",
   "execution_count": null,
   "metadata": {},
   "outputs": [],
   "source": []
  },
  {
   "cell_type": "markdown",
   "metadata": {},
   "source": [
    "<font color=\"red\">\n",
    "（TODO）tsを横軸，xsを縦軸とし，質点の水平方向の変位をplotせよ\n",
    "</font>"
   ]
  },
  {
   "cell_type": "code",
   "execution_count": null,
   "metadata": {},
   "outputs": [],
   "source": [
    "from matplotlib import pyplot as plt"
   ]
  },
  {
   "cell_type": "code",
   "execution_count": null,
   "metadata": {},
   "outputs": [],
   "source": []
  },
  {
   "cell_type": "markdown",
   "metadata": {},
   "source": [
    "<font color=\"red\">\n",
    "（TODO）tsを横軸，ysを縦軸とし，質点の垂直方向の変位をplotせよ\n",
    "</font>"
   ]
  },
  {
   "cell_type": "code",
   "execution_count": null,
   "metadata": {},
   "outputs": [],
   "source": []
  },
  {
   "cell_type": "markdown",
   "metadata": {},
   "source": [
    "<font color=\"red\">\n",
    "（TODO）xsを横軸，ysを縦軸とし，質点の運動をplotせよ\n",
    "</font>"
   ]
  },
  {
   "cell_type": "code",
   "execution_count": null,
   "metadata": {},
   "outputs": [],
   "source": []
  }
 ],
 "metadata": {
  "kernelspec": {
   "display_name": "Python 3",
   "language": "python",
   "name": "python3"
  },
  "language_info": {
   "codemirror_mode": {
    "name": "ipython",
    "version": 3
   },
   "file_extension": ".py",
   "mimetype": "text/x-python",
   "name": "python",
   "nbconvert_exporter": "python",
   "pygments_lexer": "ipython3",
   "version": "3.8.5"
  }
 },
 "nbformat": 4,
 "nbformat_minor": 4
}
