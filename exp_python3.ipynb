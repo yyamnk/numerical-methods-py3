{
 "cells": [
  {
   "cell_type": "markdown",
   "metadata": {},
   "source": [
    "## 注意\n",
    "\n",
    "- このnotebookを実行する前に，このnotebookをGoogle Driveに保存してください．\n",
    "- 方法は[第1週の学習用notebook](https://colab.research.google.com/github/yyamnk/numerical-methods-py3/blob/master/exp_python1.ipynb)を参照すること"
   ]
  },
  {
   "cell_type": "markdown",
   "metadata": {},
   "source": [
    "# オイラー法を用いた質点の運動解析\n",
    "\n",
    "前回のNotebookでは，運動方程式の解を求めて，その厳密解をplotした．\n",
    "\n",
    "しかし，機械力学の応用で直面する場面では，厳密解を求めることが困難な問題が存在する．\n",
    "そこで今回は，厳密解が求められなくても適用できる数値解析手法を学ぶ．\n",
    "\n",
    "まず，代表的な手法であるオイラー法を使ってみよう．\n",
    "以下では，まず一般的なオイラー法について学び，次に具体的な質点の運動にオイラー法を適用する．"
   ]
  },
  {
   "cell_type": "markdown",
   "metadata": {},
   "source": [
    "## 対象とする微分方程式\n",
    "\n",
    "オイラー法を適用するためには，対象となる運動方程式を次のような2階の常微分方程式として書き下すことから始める．\n",
    "$$\n",
    "\\frac{d^2 x(t)}{dt^2} = Q\\left(x(t), \\frac{dx(t)}{dt}\\right)\n",
    "\\tag{1}\n",
    "$$"
   ]
  },
  {
   "cell_type": "markdown",
   "metadata": {},
   "source": [
    "ここで，$x$は対象とする物体の変位，$Q$は任意の関数である．"
   ]
  },
  {
   "cell_type": "markdown",
   "metadata": {},
   "source": [
    "式（1）の$Q$は，対象の運動によって変化するが，以下の説明では，任意の$Q$に対応できる形でオイラー法を導出する．\n",
    "実際の解析では，対象とする系に応じて$Q$を適切に置き換えればよい．（具体例はこのnotebookの後半で扱う）"
   ]
  },
  {
   "cell_type": "markdown",
   "metadata": {},
   "source": [
    "## 1階化\n",
    "\n",
    "まず，2階の微分方程式(1)を1階化する．新しい変数$v(t) := \\frac{dx(t)}{dt}$を導入することで，式(１)は\n",
    "\n",
    "$$\n",
    "\\begin{cases}\n",
    " \\frac{dx(t)}{dt} = v(t), \\\\\n",
    " \\frac{dv(t)}{dt} = Q(x(t), v(t))\n",
    "\\end{cases}\n",
    "\\tag{2}\n",
    "$$\n",
    "\n",
    "と書き直すことができる．"
   ]
  },
  {
   "cell_type": "markdown",
   "metadata": {},
   "source": [
    "## オイラー法の導出\n",
    "\n",
    "式(2)を使って，オイラー法を導出しよう．\n",
    "\n",
    "$h$を微小時間とし，$x(t + h)$をテイラー展開すると，\n",
    "\n",
    "$$\n",
    "x (t+h) = x(t) + \\frac{dx(t)}{dt} h + \\frac{1}{2!} \\frac{d^2x(t)}{dt^2} h^2 + \\cdots\n",
    "$$\n",
    "\n",
    "となる．1次の項のみで打ち切ると，\n",
    "\n",
    "$$\n",
    "x (t+h) \\approx x(t) + \\frac{dx(t)}{dt} h = x(t) + v(t) h\n",
    "\\tag{2}\n",
    "$$\n",
    "\n",
    "と近似できる．\n",
    "\n",
    "この近似で得られるのは$h$ごとの解となるから，以降，これを$x_i := x(t_0 + i h)$, ただし$i=0, 1, 2, \\ldots$, $t_0$は初期時刻，で表す．このとき，式(2)は次のようになる．\n",
    "\n",
    "$$\n",
    "x_{i+1} \\approx x_i + v_i h\n",
    "\\tag{3}\n",
    "$$\n",
    "\n",
    "$v(t)$についても同様に，\n",
    "\n",
    "$$\n",
    "v(t+h) \\approx v(t) + \\frac{dv(t)}{dt} h = v(t) + Q(x(t), v(t)) h\n",
    "$$\n",
    "\n",
    "より，$v_i := v(t_0 + i h)$を用いて，\n",
    "\n",
    "$$\n",
    "v_{i+1} \\approx v_i + Q(x_i, v_i)h\n",
    "\\tag{4}\n",
    "$$\n",
    "\n",
    "が得られる．この式（3,4）を逐次計算することで，微分方程式の解を求めるのがオイラー法である．"
   ]
  },
  {
   "cell_type": "markdown",
   "metadata": {},
   "source": [
    "## オイラー法の実装\n",
    "\n",
    "それでは，このオイラー法をPythonで実装してみよう．\n",
    "\n",
    "ここでは，前回のnotebookで扱った，次の質点の運動を考える．\n",
    "- 高さ$H$[m]のビルから，質量$m$[kg]の物体を水平に初速$v_x$[m/s]で投げ出す．\n",
    "- 質点の高さを$y$[m], ビルからの距離を$x$[m]とする．\n",
    "- 重力加速度を$g$ [m/s^2]とする．\n",
    "\n",
    "シミュレーションの条件も前回と同様に，\n",
    "- plotする時刻$t$の範囲と刻み：0 [s] から10 [s]まで 0.1[s]刻み\n",
    "- $H = 333$ [m]\n",
    "- $g = 9.8$ [m/s^2]\n",
    "- $v_x = 30$ [m/s]\n",
    "とする．"
   ]
  },
  {
   "cell_type": "code",
   "execution_count": null,
   "metadata": {},
   "outputs": [],
   "source": [
    "# 計算条件を変数として定義\n",
    "H = 333\n",
    "g = 9.8\n",
    "vx0 = 30\n",
    "h = 0.1 # 刻み時間\n",
    "t_start = 0 # start time\n",
    "t_end = 10 # end time"
   ]
  },
  {
   "cell_type": "markdown",
   "metadata": {},
   "source": [
    "### オイラー法の実装ー手順1：微分方程式を求める\n",
    "\n",
    "式（１）の形で微分方程式を求める．\n",
    "\n",
    "今回の$x$と$y$に関する運動方程式を式（1）の微分方程式で表すと，\n",
    "$$\n",
    "\\frac{d^2 x(t)}{dt^2} = 0, \\quad (Q = 0)\n",
    "\\tag{5}\n",
    "$$\n",
    "\n",
    "$$\n",
    "\\frac{d^2 y(t)}{dt^2} = -g, \\quad (Q = -g)\n",
    "\\tag{6}\n",
    "$$\n",
    "\n",
    "となる．"
   ]
  },
  {
   "cell_type": "markdown",
   "metadata": {},
   "source": [
    "### オイラー法の実装ー手順2：関数$Q$を実装する\n",
    "\n",
    "平面運動なので，$x$と$y$について$Q$を実装する必要がある．"
   ]
  },
  {
   "cell_type": "code",
   "execution_count": null,
   "metadata": {},
   "outputs": [],
   "source": [
    "def Qx(x, vx):\n",
    "    return 0 # 式(5)\n",
    "\n",
    "def Qy(y, vy):\n",
    "    return -g # 式(6)"
   ]
  },
  {
   "cell_type": "markdown",
   "metadata": {},
   "source": [
    "### オイラー法の実装ー手順3：オイラー法を実装する"
   ]
  },
  {
   "cell_type": "code",
   "execution_count": null,
   "metadata": {},
   "outputs": [],
   "source": [
    "import numpy as np\n",
    "from matplotlib import pyplot as plt"
   ]
  },
  {
   "cell_type": "code",
   "execution_count": null,
   "metadata": {},
   "outputs": [],
   "source": [
    "def Euler(Qx, Qy):\n",
    "    # 結果保存用の配列定義\n",
    "    ts = np.arange(start=t_start, stop=t_end, step=h) # tの時系列\n",
    "    xs = np.zeros(len(ts)) # xの時系列\n",
    "    vxs = np.zeros(len(ts)) # xの速度の時系列\n",
    "    ys = np.zeros(len(ts)) # yの時系列\n",
    "    vys = np.zeros(len(ts)) # yの速度の時系列\n",
    "    # 初期値の代入\n",
    "    xs[0] = 0 # x初期位置\n",
    "    vxs[0] = vx0 # vx初期速度 \n",
    "    ys[0] = H # y初期位置\n",
    "    vys[0] = 0 # vy初期速度\n",
    "    for i in range(1, len(ts)): # 初期値から最終値までループ\n",
    "        # xについて\n",
    "        vxs[i] = vxs[i-1] + Qx(xs[i-1], vxs[i-1]) * h # 式(4)\n",
    "        xs[i] = xs[i-1] + vxs[i-1] * h # 式(5)\n",
    "        # yについて\n",
    "        vys[i] = vys[i-1] + Qy(ys[i-1], vys[i-1]) * h # 式(4)\n",
    "        ys[i] = ys[i-1] + vys[i-1] * h # 式(5)\n",
    "    return ts, vxs, xs, vys, ys"
   ]
  },
  {
   "cell_type": "markdown",
   "metadata": {},
   "source": [
    "### オイラー法の動作確認\n",
    "\n",
    "<font color=\"red\">\n",
    "（TODO）実装したオイラー法を用いて，質点の運動を横軸にxs，縦軸にysをplotしてシミュレーションせよ．\n",
    "    また，前回のnotebookでplotした厳密解と比較せよ．\n",
    "</font>"
   ]
  },
  {
   "cell_type": "code",
   "execution_count": null,
   "metadata": {},
   "outputs": [],
   "source": []
  },
  {
   "cell_type": "markdown",
   "metadata": {},
   "source": [
    "## オイラー法の練習問題\n",
    "\n",
    "上記のシミュレーションでは，$y<0$でも質点が落下し続け，質点が床にめり込んでしまっている．\n",
    "\n",
    "一方，実世界では質点は床で反発するはずである．\n",
    "これを実現するには，次のようにモデリングすればよい（詳しくはロボット力学の授業で扱うので，そちらも参考にすること）\n",
    "\n",
    "$$\n",
    "Q_y(y(t), v_y(t)) = \n",
    "\\begin{cases}\n",
    "    -g, \\quad \\mbox{for } y \\ge 0\\\\\n",
    "    -k y(t) + -c v_y(t) \\quad \\mbox{for } y < 0,\n",
    "\\end{cases}\n",
    "$$\n",
    "\n",
    "上記の$Q_y$をPythonで実装すると，次のようになる．"
   ]
  },
  {
   "cell_type": "code",
   "execution_count": null,
   "metadata": {},
   "outputs": [],
   "source": [
    "k = 80 # この値は参考値\n",
    "c = 2 # 参考値\n",
    "\n",
    "def Qy2(y, vy):\n",
    "    if y < 0:\n",
    "        return - c * vy - k * y\n",
    "    else:\n",
    "        return -g # 式(6)"
   ]
  },
  {
   "cell_type": "markdown",
   "metadata": {},
   "source": [
    "<font color=\"red\">\n",
    "（TODO）実装した関数Qy2を使って，床で反発する質点の運動を横軸にxs，縦軸にysをplotしてシミュレーションせよ．ただし，t = 30[s]までシミュレーションすること．\n",
    "</font>"
   ]
  },
  {
   "cell_type": "code",
   "execution_count": null,
   "metadata": {},
   "outputs": [],
   "source": []
  }
 ],
 "metadata": {
  "kernelspec": {
   "display_name": "Python 3",
   "language": "python",
   "name": "python3"
  },
  "language_info": {
   "codemirror_mode": {
    "name": "ipython",
    "version": 3
   },
   "file_extension": ".py",
   "mimetype": "text/x-python",
   "name": "python",
   "nbconvert_exporter": "python",
   "pygments_lexer": "ipython3",
   "version": "3.8.5"
  }
 },
 "nbformat": 4,
 "nbformat_minor": 4
}
