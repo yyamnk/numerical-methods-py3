{
 "cells": [
  {
   "cell_type": "markdown",
   "metadata": {},
   "source": [
    "# 今週の課題：モンテカルロ法による円周率の計算\n",
    "\n",
    "ある計算問題を解くときに，確定的な数値計算を使わずに，確率（乱数）を用いて解くことをモンテカルロ法と呼ぶ．\n",
    "本課題では，モンテカルロ法を用いて円周率の推定値を求める．\n",
    "\n",
    "- まず，0～1 の一様乱数を2つ発生させ，1つめを$x$座標，2つめを$y$座標とみなすと，座標点$(x, y)$をランダムに生成できる．\n",
    "- 同様の操作を繰り返して，ランダムな座標点$(x_i , y_i)$を$I$個発生させると，各座標は一様乱数であるから，下図のように，座標点は`1:1`の正方形の中に均一にばらまかれる．\n",
    "\n",
    "![乱数で作った座標点のプロット](https://docs.google.com/uc?export=download&id=1swzdSMO2uqjR8oKMVI2Qi4qbQ8xx78vq)\n",
    "\n",
    "- このとき，正方形の面積と 1/4 円の面積の比は，それぞれにばらまかれた座標点数に比例すると期待できる．\n",
    "- すなわち，1/4 円の中にばらまかれた座標点数を$a$，円外にばらまかれた座標点数を$b$とすると，次の関係から，円周率の近似値$\\pi$が推定できる．\n",
    "\n",
    "$$\n",
    "\\frac{\\bar{\\pi}}{\\pi}:1 = a:a+b  \\quad\n",
    "\\therefore \\pi \\approx \\bar{\\pi}=\\frac{4a}{a + b} = \\frac{4a}{I}\n",
    "$$"
   ]
  },
  {
   "cell_type": "markdown",
   "metadata": {},
   "source": [
    "# 手順1：直角三角形の面積を推定するサンプルプログラムを理解しよう"
   ]
  },
  {
   "cell_type": "markdown",
   "metadata": {},
   "source": [
    "以下に示すのは，底辺の長さが 1，高さが 1 の直角三角形の面積を推定するコードである．まず，こちらのコードを実行して，結果を理解しよう．"
   ]
  },
  {
   "cell_type": "code",
   "execution_count": null,
   "metadata": {},
   "outputs": [],
   "source": [
    "# 必要なライブラリを読み込む\n",
    "from matplotlib import pyplot as plt # グラフ描写に用いるpyplotというライブラリを読み込む\n",
    "import numpy as np\n",
    "# np.random.seed(1) #　別の値にすると乱数の系列が変わる"
   ]
  },
  {
   "cell_type": "code",
   "execution_count": null,
   "metadata": {},
   "outputs": [],
   "source": [
    "# サンプル関数\n",
    "def estimate_trig():\n",
    "    I = 10**3 # 座標点の総数\n",
    "    ereas = np.zeros(I)\n",
    "    a = 0 # 直角三角形の中の座標点数\n",
    "    for i in range(1, I):\n",
    "        x = np.random.uniform() # [0,1]の一様乱数\n",
    "        y = np.random.uniform() # [0,1]の一様乱数\n",
    "        if y > x:\n",
    "            a = a + 1\n",
    "        ereas[i] = a / i # 面積の推定値\n",
    "    return ereas"
   ]
  },
  {
   "cell_type": "code",
   "execution_count": null,
   "metadata": {},
   "outputs": [],
   "source": [
    "# 実行結果のplot\n",
    "ereas = estimate_trig()\n",
    "plt.plot(ereas)\n",
    "plt.xlabel('i')\n",
    "plt.ylabel('area')\n",
    "plt.grid()"
   ]
  },
  {
   "cell_type": "markdown",
   "metadata": {},
   "source": [
    "# 手順2：上のサンプルプログラムを改造して円周率を求めるプログラムを作成しよう\n",
    "\n",
    "以下のセルに作成したサンプルプログラムと実行結果を書け．"
   ]
  },
  {
   "cell_type": "code",
   "execution_count": null,
   "metadata": {},
   "outputs": [],
   "source": [
    "# 関数の作成\n"
   ]
  },
  {
   "cell_type": "code",
   "execution_count": null,
   "metadata": {},
   "outputs": [],
   "source": [
    "# 実行結果のplot\n"
   ]
  },
  {
   "cell_type": "code",
   "execution_count": null,
   "metadata": {},
   "outputs": [],
   "source": []
  }
 ],
 "metadata": {
  "kernelspec": {
   "display_name": "Python 3",
   "language": "python",
   "name": "python3"
  },
  "language_info": {
   "codemirror_mode": {
    "name": "ipython",
    "version": 3
   },
   "file_extension": ".py",
   "mimetype": "text/x-python",
   "name": "python",
   "nbconvert_exporter": "python",
   "pygments_lexer": "ipython3",
   "version": "3.8.5"
  }
 },
 "nbformat": 4,
 "nbformat_minor": 4
}
